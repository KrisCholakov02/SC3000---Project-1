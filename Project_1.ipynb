{
  "cells": [
    {
      "cell_type": "markdown",
      "id": "435dfdd3",
      "metadata": {
        "id": "435dfdd3"
      },
      "source": [
        "# Balancing a Pole on a Cart"
      ]
    },
    {
      "cell_type": "markdown",
      "source": [
        "## Submission Details"
      ],
      "metadata": {
        "id": "qWrV1Lw2WVyc"
      },
      "id": "qWrV1Lw2WVyc"
    },
    {
      "cell_type": "markdown",
      "source": [
        "This is the submission for Cholakov Kristiyan Kamenov (U2123543B). I didn't have a team, I was doing the project alone."
      ],
      "metadata": {
        "id": "w9WRfYWrWYPb"
      },
      "id": "w9WRfYWrWYPb"
    },
    {
      "cell_type": "markdown",
      "source": [
        "## Introduction"
      ],
      "metadata": {
        "id": "P8SVoo0irbFQ"
      },
      "id": "P8SVoo0irbFQ"
    },
    {
      "cell_type": "markdown",
      "id": "7c7595af",
      "metadata": {
        "id": "7c7595af"
      },
      "source": [
        "In the ever-evolving field of artificial intelligence, one of the pivotal challenges that has captured the attention of researchers and engineers alike is the inverted pendulum problem. This classic control theory task, also known as the \"cart-pole\" problem, provides a simplified yet relevant model for testing the efficiency and robustness of reinforcement learning algorithms. The problem draws inspiration from the real-world scenario of maintaining stability and balance in dynamic systems, such as balancing a broomstick on one's hand or a self-balancing robot.\n",
        "\n",
        "The cart-pole system comprises a cart that moves horizontally along a track and a pole connected to the cart through a hinge at its center. The primary objective of the AI agent is to learn how to control the cart's movements by applying appropriate forces to either side, preventing the pole from falling and maintaining the system's overall balance. To accomplish this, the agent relies on continuous feedback from the environment, which typically includes information about the cart's position, velocity, and the pole's angle and angular velocity.\n",
        "\n",
        "In this project, we will delve into the intricacies of the cart-pole problem, exploring various reinforcement learning techniques to develop an AI agent capable of effectively balancing the pole on the cart. By studying the fundamentals of control theory and reinforcement learning, we aim to gain insights into the challenges of developing adaptive and robust AI solutions for dynamic, real-world environments."
      ]
    },
    {
      "cell_type": "markdown",
      "id": "e5ef70a9",
      "metadata": {
        "id": "e5ef70a9"
      },
      "source": [
        "## Installing Dependencies"
      ]
    },
    {
      "cell_type": "code",
      "execution_count": 139,
      "id": "223dcf95",
      "metadata": {
        "colab": {
          "base_uri": "https://localhost:8080/"
        },
        "id": "223dcf95",
        "outputId": "3d5baa90-23e3-43a6-b5ef-b37f58697993"
      },
      "outputs": [
        {
          "output_type": "stream",
          "name": "stdout",
          "text": [
            "Looking in indexes: https://pypi.org/simple, https://us-python.pkg.dev/colab-wheels/public/simple/\n",
            "Requirement already satisfied: gym[classic_control] in /usr/local/lib/python3.9/dist-packages (0.25.2)\n",
            "Requirement already satisfied: numpy>=1.18.0 in /usr/local/lib/python3.9/dist-packages (from gym[classic_control]) (1.22.4)\n",
            "Requirement already satisfied: cloudpickle>=1.2.0 in /usr/local/lib/python3.9/dist-packages (from gym[classic_control]) (2.2.1)\n",
            "Requirement already satisfied: importlib-metadata>=4.8.0 in /usr/local/lib/python3.9/dist-packages (from gym[classic_control]) (6.1.0)\n",
            "Requirement already satisfied: gym-notices>=0.0.4 in /usr/local/lib/python3.9/dist-packages (from gym[classic_control]) (0.0.8)\n",
            "Requirement already satisfied: pygame==2.1.0 in /usr/local/lib/python3.9/dist-packages (from gym[classic_control]) (2.1.0)\n",
            "Requirement already satisfied: zipp>=0.5 in /usr/local/lib/python3.9/dist-packages (from importlib-metadata>=4.8.0->gym[classic_control]) (3.15.0)\n",
            "Looking in indexes: https://pypi.org/simple, https://us-python.pkg.dev/colab-wheels/public/simple/\n",
            "Requirement already satisfied: setuptools in /usr/local/lib/python3.9/dist-packages (67.6.1)\n"
          ]
        }
      ],
      "source": [
        "!apt-get install -y xvfb python-opengl > /dev/null 2>&1\n",
        "!pip install gym pyvirtualdisplay > /dev/null 2>&1\n",
        "!pip install gym pyvirtualdisplay > /dev/null 2>&1\n",
        "!apt-get install -y xvfb python-opengl ffmpeg > /dev/null 2>&1\n",
        "!pip install gym[classic_control]\n",
        "!apt-get update > /dev/null 2>&1\n",
        "!apt-get install cmake > /dev/null 2>&1\n",
        "!pip install --upgrade setuptools 2>&1\n",
        "!pip install ez_setup > /dev/null 2>&1"
      ]
    },
    {
      "cell_type": "markdown",
      "source": [
        "## Connecting to Google Drive"
      ],
      "metadata": {
        "id": "GakgkFGmrmjj"
      },
      "id": "GakgkFGmrmjj"
    },
    {
      "cell_type": "code",
      "source": [
        "from google.colab import drive\n",
        "drive.mount('/content/drive')"
      ],
      "metadata": {
        "colab": {
          "base_uri": "https://localhost:8080/"
        },
        "id": "Yf2JReA5rqe7",
        "outputId": "160ac905-e7d8-4af4-d905-854510aec801"
      },
      "id": "Yf2JReA5rqe7",
      "execution_count": 140,
      "outputs": [
        {
          "output_type": "stream",
          "name": "stdout",
          "text": [
            "Drive already mounted at /content/drive; to attempt to forcibly remount, call drive.mount(\"/content/drive\", force_remount=True).\n"
          ]
        }
      ]
    },
    {
      "cell_type": "code",
      "source": [
        "cd drive/MyDrive/NTU/SC3000"
      ],
      "metadata": {
        "colab": {
          "base_uri": "https://localhost:8080/"
        },
        "id": "Dxe1M66yrzy4",
        "outputId": "876d8595-9ff7-4c34-fc5b-9532870f866e"
      },
      "id": "Dxe1M66yrzy4",
      "execution_count": 141,
      "outputs": [
        {
          "output_type": "stream",
          "name": "stdout",
          "text": [
            "[Errno 2] No such file or directory: 'drive/MyDrive/NTU/SC3000'\n",
            "/content/drive/MyDrive/NTU/SC3000\n"
          ]
        }
      ]
    },
    {
      "cell_type": "markdown",
      "id": "97945218",
      "metadata": {
        "id": "97945218"
      },
      "source": [
        "## Imports"
      ]
    },
    {
      "cell_type": "code",
      "execution_count": 144,
      "id": "73b15f3b",
      "metadata": {
        "id": "73b15f3b"
      },
      "outputs": [],
      "source": [
        "from sklearn.preprocessing import KBinsDiscretizer\n",
        "import numpy as np \n",
        "from gym.wrappers import RecordVideo\n",
        "import base64\n",
        "from IPython.display import HTML\n",
        "from IPython import display as ipythondisplay\n",
        "import glob\n",
        "import io\n",
        "import time, math, random\n",
        "from typing import Tuple"
      ]
    },
    {
      "cell_type": "markdown",
      "source": [
        "## Function for Showing the Videos"
      ],
      "metadata": {
        "id": "BLbEOi1j7Ebb"
      },
      "id": "BLbEOi1j7Ebb"
    },
    {
      "cell_type": "code",
      "source": [
        "# Creating a custom function to show the a video by its path in the notebook\n",
        "def show_video(video_path):\n",
        "    # Getting the video file by its path\n",
        "    video = io.open(video_path, 'r+b').read()\n",
        "    # Encoding the video\n",
        "    encoded_video = base64.b64encode(video)\n",
        "    # Displaying the video in the notebook\n",
        "    ipythondisplay.display(HTML(data='''<video alt=\"test\" autoplay \n",
        "                loop controls style=\"height: 400px;\">\n",
        "                <source src=\"data:video/mp4;base64,{0}\" type=\"video/mp4\" />\n",
        "             </video>'''.format(encoded_video.decode('ascii'))))"
      ],
      "metadata": {
        "id": "5rSkGYG77JPi"
      },
      "id": "5rSkGYG77JPi",
      "execution_count": 145,
      "outputs": []
    },
    {
      "cell_type": "markdown",
      "id": "d6117b55",
      "metadata": {
        "id": "d6117b55"
      },
      "source": [
        "## The Enviroment"
      ]
    },
    {
      "cell_type": "markdown",
      "source": [
        "Below we are creating an enviroment just to show how it looks."
      ],
      "metadata": {
        "id": "BvKbebOz8e5s"
      },
      "id": "BvKbebOz8e5s"
    },
    {
      "cell_type": "code",
      "source": [
        "# Including the library to record the whole video, don't stop when episode ends\n",
        "from gym.wrappers.monitoring.video_recorder import VideoRecorder\n",
        "\n",
        "# Setting the name of the video\n",
        "video_name = \"before_training.mp4\"\n",
        "# Creating the enviroment\n",
        "env = gym.make(\"CartPole-v1\")\n",
        "# Starting the video for the enviroment\n",
        "video = VideoRecorder(env, video_name)\n",
        "# Restarting the enviroment\n",
        "env.reset()\n",
        "# Running 200 frames\n",
        "for i in range(200):\n",
        "  # Capturing a frame for the video\n",
        "  video.capture_frame()\n",
        "  # A function to roduce either 0 (left) or 1 (right)\n",
        "  observation, reward, done, info = env.step(env.action_space.sample())\n",
        "\n",
        "# Closing the video and the enviroment\n",
        "video.close()\n",
        "env.close()\n",
        "# Showing the video in the notebook\n",
        "show_video(before_training)"
      ],
      "metadata": {
        "colab": {
          "base_uri": "https://localhost:8080/",
          "height": 727
        },
        "id": "1kS31f6mNeBc",
        "outputId": "aa731446-7dfc-4ce0-8946-d0e9c34e0302"
      },
      "id": "1kS31f6mNeBc",
      "execution_count": 146,
      "outputs": [
        {
          "output_type": "stream",
          "name": "stderr",
          "text": [
            "/usr/local/lib/python3.9/dist-packages/gym/core.py:317: DeprecationWarning: \u001b[33mWARN: Initializing wrapper in old step API which returns one bool instead of two. It is recommended to set `new_step_api=True` to use new step API. This will be the default behaviour in future.\u001b[0m\n",
            "  deprecation(\n",
            "/usr/local/lib/python3.9/dist-packages/gym/wrappers/step_api_compatibility.py:39: DeprecationWarning: \u001b[33mWARN: Initializing environment in old step API which returns one bool instead of two. It is recommended to set `new_step_api=True` to use new step API. This will be the default behaviour in future.\u001b[0m\n",
            "  deprecation(\n",
            "/usr/local/lib/python3.9/dist-packages/gym/wrappers/monitoring/video_recorder.py:78: DeprecationWarning: \u001b[33mWARN: Recording ability for environment CartPole-v1 initialized with `render_mode=None` is marked as deprecated and will be removed in the future.\u001b[0m\n",
            "  logger.deprecation(\n",
            "/usr/local/lib/python3.9/dist-packages/gym/wrappers/monitoring/video_recorder.py:101: DeprecationWarning: \u001b[33mWARN: <class 'gym.wrappers.monitoring.video_recorder.VideoRecorder'> is marked as deprecated and will be removed in the future.\u001b[0m\n",
            "  logger.deprecation(\n",
            "/usr/local/lib/python3.9/dist-packages/gym/core.py:43: DeprecationWarning: \u001b[33mWARN: The argument mode in render method is deprecated; use render_mode during environment initialization instead.\n",
            "See here for more information: https://www.gymlibrary.ml/content/api/\u001b[0m\n",
            "  deprecation(\n",
            "/usr/local/lib/python3.9/dist-packages/gym/core.py:43: DeprecationWarning: \u001b[33mWARN: The argument mode in render method is deprecated; use render_mode during environment initialization instead.\n",
            "See here for more information: https://www.gymlibrary.ml/content/api/\u001b[0m\n",
            "  deprecation(\n",
            "/usr/local/lib/python3.9/dist-packages/gym/envs/classic_control/cartpole.py:179: UserWarning: \u001b[33mWARN: You are calling 'step()' even though this environment has already returned terminated = True. You should always call 'reset()' once you receive 'terminated = True' -- any further steps are undefined behavior.\u001b[0m\n",
            "  logger.warn(\n"
          ]
        },
        {
          "output_type": "display_data",
          "data": {
            "text/plain": [
              "<IPython.core.display.HTML object>"
            ],
            "text/html": [
              "<video alt=\"test\" autoplay \n",
              "                loop controls style=\"height: 400px;\">\n",
              "                <source src=\"data:video/mp4;base64,AAAAIGZ0eXBpc29tAAACAGlzb21pc28yYXZjMW1wNDEAAAAIZnJlZQAASXdtZGF0AAACrgYF//+q3EXpvebZSLeWLNgg2SPu73gyNjQgLSBjb3JlIDE1NSByMjkxNyAwYTg0ZDk4IC0gSC4yNjQvTVBFRy00IEFWQyBjb2RlYyAtIENvcHlsZWZ0IDIwMDMtMjAxOCAtIGh0dHA6Ly93d3cudmlkZW9sYW4ub3JnL3gyNjQuaHRtbCAtIG9wdGlvbnM6IGNhYmFjPTEgcmVmPTMgZGVibG9jaz0xOjA6MCBhbmFseXNlPTB4MzoweDExMyBtZT1oZXggc3VibWU9NyBwc3k9MSBwc3lfcmQ9MS4wMDowLjAwIG1peGVkX3JlZj0xIG1lX3JhbmdlPTE2IGNocm9tYV9tZT0xIHRyZWxsaXM9MSA4eDhkY3Q9MSBjcW09MCBkZWFkem9uZT0yMSwxMSBmYXN0X3Bza2lwPTEgY2hyb21hX3FwX29mZnNldD0tMiB0aHJlYWRzPTMgbG9va2FoZWFkX3RocmVhZHM9MSBzbGljZWRfdGhyZWFkcz0wIG5yPTAgZGVjaW1hdGU9MSBpbnRlcmxhY2VkPTAgYmx1cmF5X2NvbXBhdD0wIGNvbnN0cmFpbmVkX2ludHJhPTAgYmZyYW1lcz0zIGJfcHlyYW1pZD0yIGJfYWRhcHQ9MSBiX2JpYXM9MCBkaXJlY3Q9MSB3ZWlnaHRiPTEgb3Blbl9nb3A9MCB3ZWlnaHRwPTIga2V5aW50PTI1MCBrZXlpbnRfbWluPTI1IHNjZW5lY3V0PTQwIGludHJhX3JlZnJlc2g9MCByY19sb29rYWhlYWQ9NDAgcmM9Y3JmIG1idHJlZT0xIGNyZj0yMy4wIHFjb21wPTAuNjAgcXBtaW49MCBxcG1heD02OSBxcHN0ZXA9NCBpcF9yYXRpbz0xLjQwIGFxPTE6MS4wMACAAAABhWWIhAAz//727L4FNf2f0JcRLMXaSnA+KqSAgHc0wAAAAwAAAwAAFgn0I7DkqgN3QAAAHGAFBCwCPCVC2EhH2OkN/weIfwAHQricA0myxmap9F19qELvLYQcA4HFEOHu7haiSci2LWButAc+YQaAgvwO71INxvXuktoWWBswFRCspsb1fxICLQDqk0DF+TXRirry1qYoDZ6aSbA5KvfNjwkfCOkSADDXtRb4WIfH+BuytmkuCGv65Fmqx3/8jQqObbnSAAR/Y8HJ6jA+pebGQZQa5Yb4ukDjgaGqr/BscyrjvlX+ssumVUG06CxvNwmIu1CxsbgAh2BftUtJsZ6Aqv3bb5NqGnQeQtL0N86El1pfc9JiSaEepbiP210p1rm2t8Ii7YqznVJ3ynEsbFu+7+96CqjuYlJZ24uwBeXQQzwDBqhfXKo88cA8AznxwXxpDzFlzjEPGC3DPoKY49q5c9naGMoGRsuaELUbZ9xHy1UFTxtAuU36c/cE9LfQAAADAAADAKGBAAAAWEGaJGxDP/6eEAAACeuuTIDfaABUaw0Q4iCIU1Ga5lYX7MAAL4Jpo+uUXpotXv/flrOvnFlLsKEhz6O+QJ321e6N0t7DMOt+mRieDlb9YlW9N5B1xMI3VkAAAAAvQZ5CeIR/AAADAyVzoY+zTgAWzWLMETrh4JoDJ+0FyfWzR5sAqPsY/nyqqbWTHiEAAAAgAZ5hdEf/AAAFH9DBzraNw1fYEVoIop840bMQu3sb98AAAAAiAZ5jakf/AAAFHzCVKETUYzkg5cFe+xne67A1+BMtH4jgwQAAAGxBmmhJqEFomUwIX//+jLAAAEYlD/qSQQ+teXrY0sAjt0Mbr7cL77Zxho092PJ2Gfv5cvU+RD1bGNwqJ56GMgjfxU/2yksVGuttkWJ+WY1uO1UckvL7apFYJIQuNi0wd5gcI/6YBypYmv/cfzEAAAAyQZ6GRREsI/8AABazR7cNwTQBXBidTehCedOB3ARSYLPk25bOZxjTXfFw48XU4B7oSmEAAAAqAZ6ldEf/AAAjq/hbeAiXZdDyNczI+Kxh7301MpV2movGY7TSs0hVXefBAAAAGAGep2pH/wAAI78EJxLJaZq4jKhGB1QS8AAAAKVBmqxJqEFsmUwIX//+jLAAAEYC0Pmf2Ea+ABdQtx5evtqW7CMVUvTv1GADpwbUIDC+W9nL8CGPU87bWznZMd9MUESBaPjEhzU4FgeXES1f6A1x4X5vWPZA7QlLcf6MjSObKXcTXjZmRYFBwdN+8FiwrOK1cMDbWY4VVbea4isTAXbhaAx+bGWFNqNHmF7HvlLyr7bTsosFbYgStUaCUWqXwk0wbRUAAAA0QZ7KRRUsI/8AABa1X0xHqPDR1GellcVyC4yEblCHMPYbUKIgbHmrZht77cZHdIlqNPKowQAAAC8Bnul0R/8AACPDPgIT52flYAFaKg3zLkIWzTU3XqeyrvyNoe0nz4/GJZKHYJrkmAAAABoBnutqR/8AAA3UlS5/InCrIeqAnx9pPX/BwAAAAMJBmvBJqEFsmUwIX//+jLAAAEYBQ8uaAE0jn4y9ykrS2JI6iIxMI/SG5On0f6YnRopOP0883fD9Pk3x2yb1kxER+o+JeX09rD/Jnp3okJs6NUtU2seu704if02LH4Q0GCbCo1kPdzhD85SDPc4ipwnRvw+xpeBr95By3qDgPG0vgYOurjeVR5z9ot7DgwclHLE8fbnmmvn3AjKnAObH0e6HbG7EiPof+Kec/PDWpYHo6cl7xcWve8HGUofUNxIkQREc0QAAAFlBnw5FFSwj/wAAF0w8w2Eo5wPePYCXm2uUTjyPEkBTwzwAF1BdFX9ZAmiPqOGv2cplIccEAZQBgJPYRWyfg8TsH9DACYuugswcVrTlYX2D+ioexsCsjDITYQAAADcBny10R/8AACPAmswOniLdDmaZKIvEy754KDhZCmB90EOiw+1v2zQu/Kl8ABMmhNBSN5GNXNsxAAAAQAGfL2pH/wAAJL71Phpq9lnV9/x+MfVGUGHZe9oRKhceDIRBF7LXg/SOM48TFVuST1uBtTrrWoAPk0u4l680E2AAAAC8QZsySahBbJlMFEwv//6MsAAASAD0zoxx9YK6AK37t3O/XO/i/lUqgBmHCyanAat8B9rgAnbxfaBL000leBXujRQSgQe7ACs3LQ2ZMp8sRcBfZnBnrk21MjBuqU4E3UNxG9ozOLVBHpV7Ka6P4RNrDFJnKm12E/yFgEOqGDc2jBZwRRTtNVp6pXLTl3+5EP98QivDz0c7gcT7NhZJj1it4j3n6gpLYOs3pVYLnmRZNbx3rDKjVWkhOlIUalgAAABMAZ9Rakf/AAAkvS4MeoP6qfO4OX7jHATn2UIdoPHkXFYn76ekjXfTJzF8WkFbFosBWd6RQ3o3R9tAISa/hPjZBi/e3/aumh7CIIc70QAAAPhBm1VJ4QpSZTAhX/44QAABFPQ//abhEUUmbxFJF4AEYCJN2rHg6vGbSEuLQqv8+nsv/bBfagasiUhHkB30C+kdVrfiy9rAeZ5fgimmDR1uNZ29IdBBfgb/gyB/yHAbl5B+YX70N47V1SvEv3MnUpRGcazjYHje1aY+KGCLnuttmdB2i4p8pkS7X/g+wxNmfgb+X3+dIELfxNpLyuYAcGAEsWFsRS3T//QjLujXys86socgbX0QDSPPwgs4RnXnkt2BZIox06GDT6NYC6ySR08D3NMnKklHguYKlokmhLL8RCbuQip9Mdp8um2+KvSX4UcMFeM9y9HZaAAAAGdBn3NFNEwj/wAAFrteqQjGnyFdyycAZMAUf66mMcJeY2HT/Z1C0mY+lsl4z1acWouPVGAhBLI1zygiFugzuhuXYmIlGiABM8eeEzZolE4+PgbihnDlkveU/aR0EPcFbWvop4eba2FgAAAAVQGflGpH/wAAJMZUOEGY7t1EmndotANdPlJbW3FN8iMrL46u+BH1Y9U2++Kqa4thcdRrSimLyfG8lb0FQL6kmx/YECVa5d0FCOQB8qFkULAMwiGZcEEAAACRQZuWSahBaJlMCFf//jhAAABpOReKF4ZxD3fi/fMssj1vMclneKFq1HgUE15//C1hlp3aEAFg0//o4H/ORCXjiOlitglrjSPc27LgYd8pgt+Q3bjVJ/ldwMSeVHLZCTX0Zi2//2wKi7nZRLT1GROK+5s2FgbYPgV+44C0weE2T4KA+/9skIPkcFd4hDv7lLmcKAAAANpBm7dJ4QpSZTAhf/6MsAAAGyVghLnhT8cErn2BCfrsAFvs59b2lGxLoh68jfYOPMT/BOUHwDveJ88bBKsl6/2oIWIGhSFrhdOCH5ypmGIvmiXjVy+evL7OidNxUXUjxYiUAxew71ZqnHF8ZTbU1d2+szMqLFYI3EdhsHYemNB/uS3Nndte1Ww7Q4DzuO8CmG8T0mGRxrmnQYGiGamzPIRO7P+v7Cbtiw/il9YCGdyqGUQ4usvZhQ2NmHmDvstSGkYraiktdwht+uZo7bkpb8919IN5cLDdQdd4FwAAANVBm9lJ4Q6JlMFNEwv//oywAAAb7WnwNP0Co9ShMnY6Dwu5e7A6+L8JUGaR+xJ+OFLghBHOfb5eSmgoveZJGKHdCJ8dfMO3iNgG0CtNlcrwfFykn9F9wlasbZwKsir6J8kOBiDz3W6TpMMj5bcRLrWEqjkNtR2YgTfoVfS5AsA//mqcBWa2NA1Th2cgn0PWXqDr1CIpE4rEwg+7vjldJlsyCbDC35VxtkUFWMcvfLKqpdHF2Nd59Wo60SF4eJT4rEcAxA1ALioWilOI7YC4h15h0kFGFuEAAABXAZ/4akf/AAAksjy/aYfKZqAFtykEHmCHzsVrlRyoklW/xYrc16Y9OtQFgz/88IK7p6GQ3qAnC6NkhnIsR4jmERhXTvE0ShZK1lIQrkx4UGWotzED79SAAAAA3EGb+0nhDyZTBTwv//6MsAAAG+9bt92+WmU79Ut1AwAWYMfbpNKbYVduXoLg7+LLLJGPP538Yl/Eq9DIske45RZA6nkwLWE2SpN3E1q0CebgV0SKs5e8y8XN3lZVy9ewP7yf/ZVcT8VCyQELW6GAjT/SGY2lRDzmJ9tR2Y4gf/CPHeD00MTiymZBweo7tB/eo/Ui6UwcyK0UlpuF2MRog2uBiqrFFigO2E+RTqDdWOBrAsSBkLwlgAyhBf7ddaz+rQJ/f32i2Ql7vgFfCMLeiP4d9uV1ijVVv6Em7pkAAABjAZ4aakf/AAAOJlPZdJU/A8SAu2RXCuQ6QQZ1ROanIe65/c+XtljmGElPS5cf3Ph7L6mPL1UR1Yl40F386vHVxh6v4ykj0evl6opjnjX+meGA6PuwAJzG9zhCdm1nOsamDJXaAAABNUGaHknhDyZTAhf//oywAAAKmGl7mhDX0tdRSADp18tt6JnJCyJmaA/yKBtEfUuYnKQgExEltWYvbqDlhFmlt/YjnaJxUSnMu0saiIKWDlkMRSTXZijztFkyoueFPQDMxVvvJy2Hpv1yUeW51osNRUOx8BcxJ13paCkLhynOq4HuNSUqfY6iaxSnIq+9ue+3ZKZIxt5xhc+4PM/yeB9zkHys0I76ElmHELHeGW7jr43OCYdmNSrAvb9r9JfUUmwYcqVUYSm5GCVJvWw0Y9Ad+62zTp5S5zbCcBX/2tSONcjlDcFJHb/H/6GzTqs3iTc5qUDrxrq4TIJG9KA9zqU28bf64nLJ3A7OJCdtZZqyij5PBl6c6EJ8x6kYmKwEryugwqkD2ybBELQBSkantrBchVI+Eq0o1QAAAJFBnjxFETwj/wAAAwNhDJpGNCGz7/PhADS0IaNXbHTA3dC4QF4Psr6pFbsqNfhWTLg+cHK2xFcfnjpqkXR28zUsQv0OV8EgOPVYdYd5tqQDSUIIv2q2jL+yW5hfTFVzf6mtkolqYq1lMsQoaRRnuqTCXe6Dix51ijLv/OSfpLjr80Es2DiNqKMCfLXn0UlvBFmBAAAAWwGeXWpH/wAABWRRaBwBJc1DrqwHhWRzh4i/vidxv1ctlt3iSExzmoj8GftFTFTk9Ac7OCB9aXCojrZTCm3yfszWzyRyGRyh7iZZRclZCVmolywKiaqnAkveapgAAAFsQZpCSahBaJlMCF///oywAAADA+vrdufG/a/wvgciAAL68RKi244IOrGziaGsUxJYwqTHx213+PxQNMQNFW6ICMFWQgW2q1XcYCg7RWgmi6nwDf3CKiw30jiN/7MxUio/Gv8JLYacuZTNkXbz6Q/Sx0yvhGw6NXvNyxrT8T5FbwU/6V1BgxmUxCAVEBrogf0scwigTOpUEUQ6kdocCovjOnPYpyjuhhRDjvIdcD5l1R09X+z3xRitey3zT3dE4ZcRZAXID84qBcqQeuTxuXUKyZ1Jyo4nvb4lmVB5Wjz/WfAwFETrwIXWyFvuWu7tp7GrSqplg5zmrZeWshswP/NdAc1dtytAtJBuYa1AlL0SI0Pxt2kgkSoJXLsoDKexCVGqweFr7FOTtLuO1OB0QSiigub2jIrhqozTCqXiytbVMFQVHB4gS19J6aiU0Wzavvv75x+aB5Yx/+sNFQFlv8OeRNjimleau4wWkgxOgAAAAKtBnmBFESwj/wAAAwFQJTOb66ac6m8kAH92i5Yg2eYRIVx1DCXBkCy4eHL5Tlvq2lzH9rECQlHAJzGLG+AHhk84qzYYWYvUhqpvx+m4XVcGhhp9c6CvjEH6uGFb3KlL9l4qzZfyv/czp36jG5KvIWfNk7dUKaAhuuMYu2/pjYSwwPd5aC8VzGTVtlnstZ2BmQRAibjLO+PYwoxXGZwrPpRLsoE6AksFsL1srsEAAABcAZ6fdEf/AAADAgvyrRnYgB0KSWIzLDMVqOcfxP37hmZfuV3ncB8mD+7b00gmHltdQtVaPqvWTjLrvfxdY7PSymeBHmj/J+uZfZHir0uefcEC2WGa7vG92Q9o82AAAABQAZ6Bakf/AAADAgS0XdwyDJdqUcTZGnWzn6QGRQcnwAkhOfQ3Chawbub0zzAvmmNGHVxgOjOKkPT13FFu9mfdeb86dBhj/DCrMuJs+/1ZaVcAAAE8QZqGSahBbJlMCF///oywAAADAYz1u3PcRHDfr76ose6+GQMAqACEconm2eMug5JTtP496XzCpEyjg9qac6mE94Uz+3iXqoUTnTf4+RnwRX9YlH6Ha6m9Qng9utEpc2xbEhPjnm7+kCKaQ2ClByDyItf/FmlaF55i283k+p62fRwtuIo1hZNwvWeoQrJ+4LJf460lNOiIX7kH3PmQJFNth6jEPCZ9dScJXdCAkPDv06bSKBWrv/t69Kn7CKekHk+aNh2qwTf6/AIX9L5J62crLBGXIMDXXSTHn/324kbXwX3uyYlM9lE+AMC6tTM6VNNq/YQsOD71iVdgQPJY85R2T9YOR6eEpmo3PrWaybHhZyAysy5F8kQi2eAtCOrSfd3nKhEMfzvNXc6l9vJ9wj2IS13nwymy7xaI1/682wAAAM9BnqRFFSwj/wAAAwB8P6MfjYpgl+82NAJrD5WXnXj2ZZuwaV1MwGKZEhdKKgW5c1XPqwabeakeAN4pfstENZqB6i29+uslAsivzzazbsjgHzuKv5z9LvNu5uyKjU+QZOi0uxQShNtNPE8iSMivqDpHOIErt1PEBTIX3HwihxkMphHNT0p281+23gyy+voLVcj/fPGIKLEDD6Xpjkkr6JpNgaaF+T3AaBJbeCXJhWEtymaTZU4FnBNIaWgZedVj6ET/DbKMrSTT5gvculw4s+EAAABjAZ7DdEf/AAADAMaCO9bAC1irwpDO8k4Ys+ngIMHEoI4ozsxRFPvutwiCKK86Ae827lV1IHS4zu8MlxD03oMn11x3Lf3sHj4lGB4h49nUYYL72OpuNXCbJoWoM3/oJWkIRu59AAAAbAGexWpH/wAAAwBNqkIAoNZCRjkiokqKqHX+lbhtwigBwR8mBKHQGGijERupZaQroQ/FgpBuW8kSRXqJvMhPX+eW/7Arr91v/rSjjR1zxKVG9lomD29P56FGxdFYRWunCUBH8sEgbMfOww4YswAAAMNBmshJqEFsmUwUTC///oywAAADADk+t257iHAVFGlfBNYVABOtE5Ho0SeAjbgT20sUDOCubp98r8JXYTQxTlguZHprrGssPx0MaRNorOnqOlCX3iBAHOnXWP69WVXSaiMcFXpHiNMyG1U6WocLZYv/Kv223LWlx/ys5R0IwVHmjedKYtaTN9jjmmoJhHKBTwLCg3Fy5UKY3jfmkUhiFqeH09l43b0Z5qoJ4vfUDILoSt4o18X5RibRjp+Zq1cX6TtKf4EAAABuAZ7nakf/AAADABz8lGUVw/SmEFUxACvejrIXNplVTS593n/lFWpYgtZgvBwAE1LCsoZn7+eJGaMP7rx4H6qXXQJU+zkAA62j4GpfUtx9VGuJOVrL/Eyl3RHch+JIYQUfdFIZjMGI5AgtA+HmJHwAAADzQZrpSeEKUmUwIX/+jLAAAAMAFd9zPU58APZRvyA4fY0dQOnQAXdXVoddiiV4GK14Z6RsBesIWkb3V8wbaXJwe37ig71/TWf18t00h8Ri7gFueB+47d/tzovf0c3jAmGgInZxwT9PH1W/D4yV1y+iXPoEx95tcOROh8/O4p0U7qtmlQOVIV7PoYrEQriJp27lKmT4SfAGxK+au4Py/jYgdMov3UukV64QFrmYCJOfyMiKVxKEDdryPmTlXjSecMGf0k8g3zSie7rHTbm/eokakWjuXniio6BtzkhJJbnWDCx0JmMVgIZKOoRtb2AXEkz0LT6MAAAB4EGbDUnhDomUwIX//oywAAADABKAPcW9mIGYmAE5u51xSoE2sjZmzTRqg71HTADFmA12m8rm7p4dbOL8qtd+EaICSRdPp+PIbmuVtG3HvQ3RbOEUgDL49qgwK8AAyhtTnUATl89p9FazGRSD+KexJ6macGPPAJfBpQabnOGBdlm5JIGmW4wt1aTRoC0WM5Lzaf+5q3MxVt+S3UoQ8mZ+arZBqmgS72OB4DtaiO8rmwRTCGKHEpqLpNm9onfrP94M7EW9DWyAxzbPb99tAjsAQVDsXSQ1UQmerLzEY+sv12GuWzvIasfrEBbHjOpFnMzqk8AoRrLP0hRvFrdHW/+rNh/iSxX0lmhs4+Fw5dGsy2MKm/V1XASv3XSgUfNTNxyVd0HlFTBhG/HB3wUjFjrDYPz4mk32rmhAw5cR/FaI5yrd9XzqajYCwZji+aFYOqgzMEfl4JsUARbWBevIZE85vgh0wQYFGa7kzgpyatYPBybfifH3BP8KPyHhEy/cvmtH3l3dkKxHYPADPP+PmOpvl4rRXPHuWDAkntvN2ftyuKfyJylqP/JduyEYMpURgldMb5H7bPpyZsBLzBEnJr4ZR7RJUUDKViY4eI/Rz1lctNaHOSEywOweVexfPqWaeodGTQAAASdBnytFETwj/wAAAwAwf3l6d2NlF4elDpXIGuw7cARkaRwdYFWyM8h3PVbKhSbJJbYZKdHbs234O7ft2OgnmEaWS/sgAMfiB+lnFE9jlu4moI4pUW3k4AxC+tMiqy2uWLwZzYaAPddz/LjLgPugzJSVK5j85evRqOIX6H7IlCGli5Dw3pfANnSx8Ymvt5vWKzZfeuIu7AUlMepw5PyO438qOT00JKFNW/fNiNKILEdVhMHZTOD671YTwdaKLPK9Jl+thhF1guv3fC+06L2I1D9N2Bi+Up0hn0wXKa3y/AHsQQqFYbd3eTHOu7Mr/ELhssPH37XbbHpNniOeVVx+I7qmiKnBqDiguede2vlWLfV2Aya3J2oPelMj+yUgLSvLVvY5INIG4z2gAAAAnQGfSnRH/wAAAwBNWHw/dXZwsNRugiury29FVwTs7UAE6gkF1k397ya+U8pT0LC6sQdi6ZXc2k7G4WE7ZvhEAKFMUliHmKA4KTk4hERK28yxwMGxhV5390EBecGhMrhq9Bizy1urMpIHRuan9FPHrCRbC0tnNZr8Ch/8JQFTKL85/bWQ9xtFCmf9UxNOvP6pfdArKd8T3ODT0clVv7gAAACNAZ9Makf/AAADAE1+OfJ39360gGpGvkOX+9TmcVbjKABbjBrdZ7f6hEoMVyThyN06PwkOA65c7S86KuNp9LHES9EKGXNsCnnGuR0wjS3yXrp8l5J1E9mI9J9q6jWxNPetyNnWtcGDINF6USY+P/vWhnpItMxBQZnxj/b9uZgBtnikeb9qfLdYnMSycSDZAAAB1kGbUEmoQWiZTAhf//6MsAAAAwASgIGGuGZoATTP/dG4jIDtaiIozXNm3w9OiZy4QsKVtsbzlbuMT6EHxAnuoghUZMZEKb7dbTldbPaTzVkjTj7OjGprcBX5jjuYtOmrNZF99ApLajXlr6+f1ZI6ckTu7l92jE5iS5nS/oyb5UAg6Sd9TERiZlbkWl29beSl9e/JQaFw+QH6d17ZUvDz+A8eUwlALAze3jOa2nIOBmVPyst9UV6D9dev5v6cRuzs4oS4j/szQGB6i8byXfmQBeWrpFGqWeFf+8GT5L3zcjxEkyUhnxxMZXWJe0imh30B4ZouyEaksjaQCJu0fg1cEGkc09iVD/xgUxRIujpfuYGGw5vEf0yAo2UiHyrJTThWN1dV1G2MRtVrBaggw7fP4DSZNXEWGim3e5Q8Ab0XOoYLQoK+iHFQ2+kskNUNJnCYDmNACnCxL8zGohKNyjQo6tMKGZkjzYoy3ySj07yujuUe3YxyvPaRfLBzVrbOJYYgdC015VNbwMHv+ihXngqEbl92qzAm2OlqKYjTAVGlZKUKX/yAfYwsP/NGnhWvNRGZZoHEDq2DCkQt51NiUG+c4zrlQayR26mhNujXeI+02F3xBhAgRdLlAAAAwEGfbkURLCP/AAADADEbv5Oq3nGu2uLqQqKPqBCsVmuYgAhuL38YvkW+aX9hz5wAtYajFnCWWn1TLC/xJ9uqL1NvzXbUJItBPR02i2OLdfqjUW7lz2cwjx0WhBG+iy/PPI8WIQXFlV6YNsv9r3TmasE9D/rG1tnpbCOFwHAzNX8Bcnldy3sxJPryzwUoDOD4hA44toxJfdKlZWkCh7doHkl+W+Zqtqzv4vTnvMVdnY4ie7XVlnk7VgB3eTQpmlHuIQAAALYBn49qR/8AAAMATX458+gIODTa+7hKCpGkARIAEQEjiR6VWLa/twIq0eNmhri+Fx27Choj+1A+VjeVtK5yKoI1HigGceaU7Kg3CNyQBSIcXt624L0BAOujl2jDr/FUjvy3p/n3P8IcMEBN/62ZlT8aPtJ8nkT+mIe3XQJrjIDo/9ZH4Tcx2Eggskofn6+HyImHXVTFtWD5o/PqI5I8vUeIs1DISqZjlbPyUuIZaK/Fo8B3x1m7kAAAAR5Bm5RJqEFsmUwIV//+OEAAAAMAR7omq1yNnElTLAAIg86OxUhXwcc5Ql3G2SIt9YbcfXblnBpADo9CFziDtoZSBbB1HIopY39KnW6JkIltcaWXKQHvMXE1hZjLCuxbfxfp0LS2R5GtesvN0DVpCfcoSdT52Yq1SF5hbzbiDCaJfT4swwFJ/YeevzwXI6VtS8HsiJSWoi57LGlKaMHbVf/4nD5DciCXIbOF+toOtoXpd5CsRP14JVL/MLMrb3aGIf1IFodzyAcHbMj+B65htkrYbhl56aJ4arkAsqVEu9zOZfcFESw4SeJVqs4ngPnVyBiDisAxNKfixnJeqHpZmvkjW7mpWGIo4PWpTbSp/gHvZbR7z+4vOJvJlpey64ywAAABN0GfskUVLCP/AAADADEbv5O2NXcK50ZABzUv+gehg5yh0ypR20XAAS7yJj+0X9yQJzn0Bcr4fWze6uHh+0vNT6V/0E9LaInOEJHJuwTERRphVMKCa3y0EOlrJAJIMPhJQqBoe67+a/yVme2x4Ko/BzPGBwBx5dMYsjLSO4T0ASmICKj/xmXONbGf4YEACldxsq6ox6ktyym8c1YC9esKN/ygDGAGs4Z0sd0CzrcBROR8RtWYhp4iAQEjpTMCMPmvMZswvCwMpkeDxHTJD/Qs6sXiiQyldwTouvlkyiW2aynocStwiHwjd09mn6vo7gTsbZPnxz2EuNpubSpOG+BhInMfjaTTjhrcOpnC+nOxjvysb06PpPu3txLr5esCiKPTdZCzoggf7TD5/v03y5e7mqgOY+MDzwAhAAAAvAGf0XRH/wAAAwBNWHw/KoLNbsX4U42YlFBvcBAASUsS/uyALUw/TtoOdn8dqmJ9FelL2RjcIwEETaZD796ew6Wd5LiJ8En3uhyFgf+UfvfrfIgAVDmYplzHMofTNYFYTSmq+Bd/ervVwxz/pxMshwn/SK0i42e8+llPMTn6dfPpwcTUkYZbFOner823epx1VPugH3U5RAuJdG9xiNP2JB37k7YjCivVAHPmWNn2Jvye71c5cSi/lltkkj4gAAAAjQGf02pH/wAAAwBNfjnjscshxBxVNezNsdG3F2nQD1UGlY7IU2JZKnZl8X5Zv/AAIH0svAB1ToNjKkJTjH7L1IDlAZe5G+QGaPaWDzotmoX9kLwdG1LMFmarV8QiyhvvMwIYVmwULsjiocjX6UiuwA5PufIlgI1xllt9Qu5rZdLMFV9DRBsTo6q78gcxUwAAALVBm9VJqEFsmUwIV//+OEAAAAMART2naRi5EEyY7Up+5BpOgAPcARZKQzPpdMyKXo+pjfe9pUcTtfAkksoE8UyEhLxVEqTFP5ieOFuQJp1sPL1N0XyPCTxEXwqWxHAIyUJFLCL/tEKSVqEwLYMn+dn8/5hv2qO+qd7SnM4M2zN5BbChybwDdecGrM9JbScsEXdqyhdLx/VS43/+Z1VgdA3m9sthVdJqVL6YvmTcISwSuUCoabFdAAABQEGb90nhClJlMFFSwn/98QAAAwAArDpUd+8bk3cALb33dxdtEcZ1XOYjvkIIDo2K/P3PQ2GfiNAflb7MOnfg6EIVCg1VTrMnk1BL0ZKljOSx+VxVBO3U+tHcDJnKfhad2e2MZcADyvR8lIC9ub4ENNFTi0UbrqFjpEj8y5a/ZgXXlhQjUPi/IOykb9MCeK7Q35j98Decf14lEMw0gX8ileZ7xdccH7kmNPkrnSj/I9Wh7sJWJwT59Yb2tqZ1LGLicNu9/QgKFdJkS06mdBZBmw8rgiHDIf5o+59hMcPZYXKgSmY5wKnLnCUCLDii8zCo8ZMmrPRvIRsFFg6PrBF4bfqM4pJnN2JJSV9O7aEUqQyV1YqQudPycwYLcTxyP40vUnrTNlR/AKKKzlf6CxsW4nH/0pzHLjtqPJb9ZbH21XukAAAAnAGeFmpH/wAAAwAJK1GOO8yuMYS2rnbvtLPAtEAEnDhXqAyTpuB+wGjlG0xBafjY9B9MAvdIk6LToaYoc/4fR6eKL6mpq6jcfR02T6m4U16dZZKZHne1Rwh00dYFKtfYgxN4RrNRIdb+lhHlxnS+ufbQ+I3xJKGXs00akAiwWhX2IBMbh8Q0hhvu/CACVa1UluVaEzgT6JkJK/X/gQAAAYJBmhlJ4Q6JlMFEx//8hAAAAwAEEtat9zbk1TaoAN1TIgHpbgIpi9GeUzlgq0GvHx/BsyTs6Xz2dJEHvz3YTGzrpf4NweXR2YQBbjLIptEemfg+J2B00Ax+dFvfrALr6LuSfLX86BVW+lVx52j13gWOvcUlztYPw2C0uAWmwhRjU0bv3HYBSTHObkYeex7YxgDwMxn5U3G6VbXcbTwVTIpvjZK1jNzhGLx4qQcSdCghPUY1OaUB0DkrJomQCgvSShfE6cGOJqcANsl2MKuIB+S8+9AjsvP7NrX8GI60NlEaxW0UNlrUFHt3VtNFxp9F7/pPupOjto7MsIGamYLUZyL48851kpUg+a5aPGrETsIfxNcZHjEKFsESbnI3Yzs46xaY03VxO9q4r9cgpzy6o9OMenq2cBvSvMg2+qoQ2X7Z2BJb8XTYWZzVyYR3ZJOgl1sd1LZjQ8cgNtkGjJZW2eqoUdIBGLmxFjpD2dbdM5pI3yf1JcgEu3iJyQLMvmMgvMojjwAAAJkBnjhqR/8AAAMACStRmUGjv2RE5xgkTNFai7GABZaGrqX7opyC12WuaOBIeQkUZ9hdWKoneO5Xm5WaKbuwWr4ep55tnn/kzbtJk70oTUl7oLu2y8q8zqMDAEN7jC4NyDNmzjbU/c+cyDzygU4elSTUXOv9GlQFFQREziHsI7KbJmml/EcWDIsw7FJVc857zHoxFAZMQcor/kAAAAEUQZo6SeEPJlMCFf/+OEAAAAMARTxrmWwdOZeFP5lAiRp2p1woAF8glrf4cqpAdeKSPGALakjlUu4kmyr6gKwrr92uCZV4OtnpljCEVgzBSy+x5CnM91fOpe4bFgqq+xEcbKyTVEPQiDMHu/xcSjNpui0bQL0dpu3IuvNlDeC9SZJA41glSAVUGsjS4u+JXOJF+BEsOJWHOTHJyZsb6GxhFhDEgbmM3teOFPrk08yN469oPBtf4G3TQfX37JhiMtbW95N1BS9YOLwGS3Qbg2aPP8lA3lWWTg34SdbiERuhfj9fiY5hwLs8eUQRjBMZ9SMBwTlWScE9D3RzinImeXNBkbxPLB6dGZC4sMoAbL6dlHJT8KeBAAAA40GaW0nhDyZTAhX//jhAAAADAEW6Jqs9fvTQmABDnNOZHwRks53WMa6dFDW2FwSLaZ3/PpjSPPhvRy9Fh0pDYnJjIhWo8Gg8mqXD5iuoPy23KZ0+r7Rq5Y5zrNM24W8sxWNTCxc5nNpW9JOpM7J9OJa1oK6ADUirB4s5UgG59nj3g0D2hHcJfgL8s5XEF/czjEAScWwwhgbyZM0b3rcF9nHZrxnwK8MV5HtW3co9BK5UQvRbPoaFII9AYZ1yVYNSt8iRmUZrCyyZX3KGKU5GELx4AxbJvWHYcEdQhFhpvIv+XsXAAAABbUGafUnhDyZTBRE8K//+OEAAAAMAQz0WeMbdsm9ABzJF5FMq8cQ1uuvaIJ1eafUIogd0l4AvRiiW2kjXDojVUZLTgvhvmnJzo6+dSYvWvx6PnjGyIJ1RrRdxK4MhOLae6iqypAj+eYkmlGvV4SUxsSM6FatW+nVw2YwLjKcpyi7WNaNhM50u7i/flLEQwgF1TXW6v+EckJAQyuRu3MY0hJDUpBtGsbbiTo8oJTl8w7i49s/OfGKZB/wDU/3u4sxSgZeJHCd9F5YbM8xQtQKy11B4aSX0I4zjDf+uxBU9YLxv5JWWUz6cqQIdjBV752hRGYWZGr7NQ+6HJinqp1n+i7LGAod4MKxdZlIj1BJjvtPlfZxtdB0g7zDVnRtxjZeeJb/CzhknSssslj7TU4wMDkLKB5YkKb/fPj/W9ruZwhaAflkAEwMk4NThQtEiQmh6Q6N/57Y8zFWaFYX3YWZKOEnr5X0XcctglM+RbYNnAAAAiwGenGpH/wAAAwAI6xiH0hcaxyql19wBNqLKYIRi2lIFZJgAAbTgi8hUQJqo8py1p5DzRbHCGp7kdBEFNHF0uvgyPAS9AeVCQY+MNPyRwTRalOY5VTkAsQPDyyj7hYjFXu1NXOw41dl+C7BIRRGR/BqlN8J7lk5GvDtPopeLizJ9qs9gd/DU1l2lHsEAAADGQZqeSeEPJlMCFf/+OEAAAAMAQzzI/2XzMr79YgBEHCFD6RPvc5V4qH1TLc4K/1gBkFxAcRKthFuZOXl+X8/gB4TPSNlJnhaXtbH9ATSmIW6xhv7tCNrcaKZGX5gYtseWNfjWjm/O0+3/L89fUkSMoQTTaY84Pp6AmZCk4FlQ58EbFZJaaUj2kWJcoT/8ntkNnKiBci2vEzrygA2B/jEUkf4XchJXDlXd1m6y7X4JimcuJh6PLLt24s/5veBNUgUm7KYRhjqNAAAAtkGav0nhDyZTAhX//jhAAAADAEO6JqtRK/M1ZWDqA8D/+NPYgANfJeOd0Mjh/ZSxDxu4yx7OimyEFwgfBQIohaZKwJapd1zSa8s25KoWcOHvBS1gI610BgK89Ci6igC0GZwUPUGPVw0xbWPWABI3xT6LLR4mjnmXhQQWrPrTKWmBxqFhsomLo/cCsflblOqJJD4Rb6W/M52GazuptqYWQu3iyM6TJiRkY+CUlGnMl/AyoVKCAxL3AAAAxkGawknhDyZTAhX//jhAAAADAEE9QWf2aJXlhUMQAdi70x+4QCHRVMUhNcsUNvB+l0yRWBK8Np/dYaRtifvK7ZtSU4skI3ctDV83FDrR7Kp+sibAfR+fLFmXRG/wYAiXT1LmM9D6jLO+UKL7bLSGMCskKqbH4iQ0iEMgpSeyjGw+i9Q8ZTZ8tgZapQV7i/DP5VzuOLxTuWA2xcdHVIrYbuWY7UsHy0/tHN2hOnm0ToLYdBsSbFIjwQJPmMmBPE8Z9+qXXOVnwQAAAJ1BnuBFETwj/wAAAwAFis2lAwj6AC5z7u31RwWtZ2SJsntwuwzr+EMOodjQX57V28GugowIzFGKPQvT+GOOj95R/ZxrsRBRMttZsgmoIHGsaqzzlXtGu7kmHwPkrclZlczMADi4vgifi9kQ8EDnk9j93cMKLNiNtnlh/BOFp2AsUuNaIDJwOVm7dZ1xLJDRgiaftgR5Nph3Jej+3M3AAAAAjAGfAWpH/wAAAwAIj3KwYP0UQFmQ2mCVW+QYSPtfzA+aMwAS/jSF203M/qBogOAFtHa7f14+Ko0ccHNv2p1BKfGuMzsGAcIX2vKs0U/Y0mDDQUe9SxRI9L41MVPE9ScOY5WitAyS3VkDjTXpD0Uvyvj+Fyri9GhXGOCImGTMRRWCOLnUaeHLpu7wG9A3AAABAUGbA0moQWiZTAhX//44QAAAAwBBuibUUfLFwAGXXFAKOFZB48aHZYvAhCf5X+nanTlA8lIXQiAyVT4rhwrMPVx1gCKkM0fFGZbuBJQ2ryZ/xT9VLn22wlY/EYaUNJIlqpYNZg8Fl9tb957RTPkusvgG30hVPZAEfQGEVvh+VG6ePVlhQuis/WdjrXle29pMwMT3GGIpXu8ut43SDSsEXL+SewZuNRk4B1D8DcFAbqlIVNH958idMySSq3uv+47UJa1s4j6u5TnX8CdVQKydgz6xwUOSMHkFBDxztvFbl2Mzc1h3rCZM4RMIZiCBtSEGVAfYfBJwnkmFTfssQYqNzmY4AAAA40GbJEnhClJlMCFf/jhAAAADAD9YpCi1NeqAASk+TonDK8WGO47kVYG0S+G8EEBAP5kx8eiUciTiClnHYwlTY4+zO3RoHF9F7tOPqE6JKFd1rVxYkRA2A2sOgT0D5cSiIY7esWpb53AfVdP7ueI054gKUuhnL18norYOPJ4euBrDeuSG19t9RfihrEGBZEQtrZgLMd/QA5cfud2NMYM4rjl4YI32LcPNuBWu5aPMIunq0SimDz5wEFnafLWxuuSW5XrC751vHfFsEq4NmJC4vMRGeX9iqwHG58PD3UQ0taGUxw+ZAAAAuEGbRUnhDomUwIV//jhAAAADAI7Q5r4PZ7AKR5GaB7p/Rc5vjyyxMJzW7BQQOWmNNS/g/FoA4JBgTNKyWLqXR84cr6khz7qrWkgfQTx4KjgFQyLZvAq7RJgr79fO6CWGqWokSMGBPY6jkj82Y5F0wKYExSZId13efZn2up6Rys7hF9IOq2wCsoOsYjoO5dfmJQuzn7ZSIkCq5qmbqws2NUTbyK6AnBbJiGGZjk6l1jiBRr+1BR/2zNkAAACFQZtmSeEPJlMCFf/+OEAAAAMAktC6uiyhE8ULkphf3wsnY/KcKHlXt0UQywRPq7L2bBYx8ADZ2g7QC9WrghgzA0bu+eFIcHtGP90dirK/4WG+jvEc1jw3LTA1AU7tFSWjGZEa1X5VjLo7nWkWWEyp6lra2M3V/DfhWlpWG27YULt6WWILgQAAALlBm4dJ4Q8mUwIV//44QAAAAwCSyR6kEbYnEgC//MijHBLNGaNs4ALUmJ9I7dKlTgbwoBVM//Oz8TjYdV0SDPnzj8SAbD3lOOyQvtY6Npcc9F4PqesJwH3GEM78NvkgnVCHie5g7gSrdfEBVLqLKpUVeSYSTPU1nXMShNCLRFblzD4kh7y6wRh2OIFhNpykZ2qOerz6H26vGOhdCh4AB2tSNBpJ/6ghT9ZOl7ixSE6NpvGe0sUrS1FHgQAAAJRBm6hJ4Q8mUwIV//44QAAAAwFzr1gVnUTxigtyas4Y5JtfU1z+M+bOdiN3mwX0/w8rO18jhyO1davCVeSJaN49fVf1jeVBglSMOIJm81htvqgzPf/zAFSGum5zm6Ux/2yMWjhRb1ZeWrLNoupzx+wtp+EaJSYOx4kV+Dtj1OwvzOPzp+DonnkmdNHp3YFZSzfNhz3oAAAAjEGbyUnhDyZTAhX//jhAAAADAXOMK6LZmBqxXXPEdAAjIZjo0tJX51zj4ZEncq4i8h/mv9rrERm2tfE7Sm97tBiV9vxK/Fo266XqT5kCBJxWNLz1l+dtghGszVNQs0znKMVLPyAlr6zTS0TCqTijTJpJHVuk0aUeGHgGs4CNwad97sJv0dtOTb19yBa4AAAAdUGb6knhDyZTAhX//jhAAAADAXOJlbYA2G95mWk3uqeTY/4tSY1LEBsdCrLyE9JIhTwpF/AKVNd8mLsSQtLGjJqPxwTzMOV88+kiQWpJ9oEzsXbvcRPOFu/ObXU5BspvxFIydOA+6qS7HxLxvCRBLXoTvzpAwQAAAKhBmgxJ4Q8mUwURPCv//jhAAAADA6OquBiRFAPievDIlWtNecW9etdbn7WO3G1gjnOIJLn1m+qFcVssNRTORqd7d+N7p8/LWlWJM+/Qah/z+BD60L1yNXCqWd/3N26FyfvHwpSpo6CH2f3M/vbFIHSEr/U1i3nNVfm5cZFR+/U8asVgP4k8mJzXHxqyG/Yzg3ILYczQFcZQddmj7lc6qFbsKbiifan8+J4AAAA5AZ4rakf/AAADAHm733vmkKSTnpkEZiPGy+D2nzK2EwiWBddwljRnphDAiOmcO8HxtgdWrtYbinILAAAAY0GaLUnhDyZTAhX//jhAAAADA6HBcU7b8KCkbOKb3F59xmCcLaDRlEW/DzHs4M3/iLwA+W+5qS/+MNCGAyd5jn4htXtb6/yUNqoPwBRNd9dzWKl9Lb9Bdnkoy6s4/KUISNnlawAAAFhBmk5J4Q8mUwIV//44QAAAAwOdlfT5pQ2DOtCDoNvnLklSRjoQENuZdlAc2bpEdKFAB1bRWIDExc3wdiYc5xY+0HXw0HHb1GJy7ecH5ohZeKrhPDGGfsrhAAAAcEGacEnhDyZTBRE8K//+OEAAAAMDo+o1k2qQSJWOQdv90X0unKokbPsXQ3wO9SD/tsStSyoC22wZYyR0QinRkADZ4yRlRqa1GYvo9jwwQ5wILLYU3Tc9v4xdb0SXZ4z5uZajIow0nYbdwmhyOL0HJGkAAAAzAZ6Pakf/AAADAHlynGCAKRQ7PyDIkRVCGtszChfPFi9CWTsjbBjjypwvvDc6y/NMTmf4AAAAbEGakUnhDyZTAhX//jhAAAADA4eMNcyQwVuUX4FJdGItpQ4c6CTleIB/TLtAAFtGzrtfGSj0LpVBnLmNyhhUdv87W5s3tGpnwTWhOO4H411gf/PMPQ9QoBhj4bB9Un8pZFIgAOm0XkIs2U++nAAAAHlBmrNJ4Q8mUwURPCv//jhAAAADA42/84PtiWlMKLsDDyZGLQfE72DDosVf7QCSuwHqXXTlCzaoLQjM7oihHbiQVg2GY84EwfgJFHdmoaHlUoYK0hQcehZ1hEhdgCzoZZatqzSF1rfa1mwxeDd/0mhtiTJhXsMiw4QHAAAARgGe0mpH/wAAAwB2slTwZkih4OsgWnZ4J/NUnT5FB4kmbAdvY8uihGhiX4ppBGaMgMoZ7j3wAA/m63BrdSmxiSwyvlOdxmAAAACCQZrUSeEPJlMCFf/+OEAAAAMBY+T6ueP3SngIBfWiJr5/gAEI/mk8mQ5XHXRSyQbK6kyzJc9DqR0IlvEoVgF7sgn2g1wgCKSbCK3LXwGSGwdFS93vRkhy1GFXW6q1xIOPkCbFHv+LMumlshQJ7/hjYMi1AKGQdMw0PnI/atZ/8fQvsAAAAKhBmvZJ4Q8mUwURPCv//jhAAAADAVrk+ryS/08MVA90kCgAOs9SGmh4yFKd0J8C7HHV8oNp6A7Elog6T3ODKX7knIAuwd6sU9+EkNZ9RCJoIa5bIPS6RkWx7KLUu7I+QFf0oc9SJ9VnYDOlXSiapaSzyYrAthOtO6IyQIBjPJe/vkfUue/Cf4yzz+5EHY3IKH55YssoseLYndTNBbiMnQ3F1vQ1nFu8nNUAAABJAZ8Vakf/AAADAC14002n94sv9MtKoABa+8i07VOZ5mKfaprANIakEh6UWdXSjvhdgeg2fZU09xgpnynWsjs/xVKARqmJtScVIAAAAIVBmxdJ4Q8mUwIV//44QAAAAwFR5Ps3U3HCCrvZHHgCKur0jPJHzITiArPSx4CJj5w0jdNb3G+kxCG2UOXeF0TY4UNF9qGAtOQZLbJFkGdX4hIfr5piO0OiHPkL0ulnU5k6y5MboX2wym7ZRmUWjsxl8EYNGM/b1DoJnbjGuhpe9oAS7a1RAAAAf0GbOEnhDyZTAhX//jhAAAADAIN0TVceogzO3Ny7st95rdOgnrgTzCqPJP+tPXZWuLKnEs4V6kgAXSsFaXCFwQALZ50yymSEDWDh+wlQXyiV57qPjKO7AmSa4W5//MIq/HufWEFCb9pop8Bf0WHYYELRuqMvpm+uTo8zP3YdZIEAAABkQZtZSeEPJlMCFf/+OEAAAAMAf33GtDseOOmV5vAyvvMplVJwAh8mvI96HSvmfdL+1gvXR7MUWQbYEZNlMtfKdPQ+vWg3VfQuw41LWtB/MA7Y59H1SoMCtkmOYU+91KOPbMWIYAAAAGZBm3pJ4Q8mUwIV//44QAAAAwB8vUibIiv9/gW71XMs20Tr/gAE2mjbyckDO6a4aEqMHo2r2Ya1y8WJTUiaaC5rR++4CurF2zD8UDAUvDjxJgIHcUldxn5BKzt8vyadMbBOBU1LUzEAAABRQZubSeEPJlMCFf/+OEAAAAMANeewdsNdJMyNQt5YJC5XPN1kLELBrDQAXbQ33f/AN+Tr4eXS6ug4NU1fLLPzcq6Tur7NEvHuG7hTkyPfpXiAAAAAakGbvEnhDyZTAhX//jhAAAADADY7/ga+WwNbZwAQ5XLauqpWE7tjoMxz4EI3NCZBO0C4zGs4uqH4wd4H8R1+m/5Wa5wVolWbxbv/3zjYmdYcHLej/SJG4kjIOzHtRUlz3MdoHBEN0hWVG4EAAAB5QZvdSeEPJlMCF//+jLAAAAMADZLNqr1zCbITNF2iPKFcj4gANoNJ8SWUIj02TfgKD+6Z/P6IvM7hbT8RcNPeSuKuTUCw45VK3sxGSj/b4xTEjmrHC7b/kka+LgzPY+EF3k6/Pne7G01l19P1no9KX9xy2E+2CC9xwQAAAKBBm/9J4Q8mUwURPC///oywAAADAA2nrZlkZca8z331IAFRykCs4UtnUG6sBhkIYtzW/A28bw/hggJO7b7UEnERid8YIYThts7tv57E3VEoaI+O//shSWNWK3v7gHAuy7JbqpPb8Gr5vZNzjAUA7PYQT+U5+LF2TuQ3EQOhI3OXzPCjQRuVDmBlTyZNgge4sSg3lZHRYJTQyQkDov5IpQ1QAAAARQGeHmpH/wAAAwAG59i0kutqkZpR091zi0nNgk1so1pDx33lHbhUOXABAZgW1W8+jE9M4d4kT72OkAAAP8F/nVjmWsud2wAAAHZBmgFJ4Q8mUwU8L//+jLAAAAMADVeo3z+N/HbeS2ABL41OifvILLcGYtUd4/PNF53z2c2PyfKQaMgzGh791mkqdCDxuNpWbG20bmlhEultkF4n1pRjFcyUKo9pkO0s5l6J6d7mzEFuj2TsHh/92I2/9l/+tLRhAAAAQwGeIGpH/wAAAwAGv9/YKdfMa+ndlaznsla3t43MQtjGwiHIOqk3gA/5gp/oxARkB/aw++DrLPOb8qrLKWql/2bY0KoAAABXQZoiSeEPJlMCF//+jLAAAAMADKLOanegqou7qq2+uXP4AGemXMuPJcOIXbyStshiHwEsbWFF0tMwa2oWcNyuxpYftKCM9E0039bnniYT/xK8GFPnBbixAAAAKEGaRUnhDyZTAhn//p4QAAADAAyfwdzKuRmaYg1qHR7mXrj/Ya8G38AAAAAsQZ5jRRE8I/8AAAMAA/f+ovGyW9WsliOo4P+0eyuAEKE27rVvEcgQv5dTHXsAAAAWAZ6Eakf/AAADAAZHB27Bu1QmN6u18QAAAB1BmolJqEFomUwIZ//+nhAAAAMAC/+xYbRdSsjPgQAAABNBnqdFESwj/wAAAwADy+2ur2/JAAAAEQGexnRH/wAAAwAGHu+TD+McAAAADgGeyGpH/wAAAwAAAwGpAAAAF0GazUmoQWyZTAhn//6eEAAAAwAAAwM/AAAAEEGe60UVLCP/AAADAAADAQcAAAAOAZ8KdEf/AAADAAADAakAAAAOAZ8Makf/AAADAAADAakAAAAXQZsRSahBbJlMCGf//p4QAAADAAADAz8AAAAQQZ8vRRUsI/8AAAMAAAMBBwAAAA4Bn050R/8AAAMAAAMBqQAAAA4Bn1BqR/8AAAMAAAMBqQAAABdBm1VJqEFsmUwIZ//+nhAAAAMAAAMDPwAAABBBn3NFFSwj/wAAAwAAAwEHAAAADgGfknRH/wAAAwAAAwGpAAAADgGflGpH/wAAAwAAAwGpAAAAF0GbmUmoQWyZTAhn//6eEAAAAwAAAwM+AAAAEEGft0UVLCP/AAADAAADAQcAAAAOAZ/WdEf/AAADAAADAakAAAAOAZ/Yakf/AAADAAADAakAAAAXQZvdSahBbJlMCGf//p4QAAADAAADAz8AAAAQQZ/7RRUsI/8AAAMAAAMBBwAAAA4Bnhp0R/8AAAMAAAMBqQAAAA4BnhxqR/8AAAMAAAMBqQAAABdBmgFJqEFsmUwIZ//+nhAAAAMAAAMDPgAAABBBnj9FFSwj/wAAAwAAAwEHAAAADgGeXnRH/wAAAwAAAwGpAAAADgGeQGpH/wAAAwAAAwGpAAAAF0GaRUmoQWyZTAhn//6eEAAAAwAAAwM/AAAAEEGeY0UVLCP/AAADAAADAQcAAAAOAZ6CdEf/AAADAAADAakAAAAOAZ6Eakf/AAADAAADAakAAAAXQZqJSahBbJlMCGf//p4QAAADAAADAz8AAAAQQZ6nRRUsI/8AAAMAAAMBBwAAAA4BnsZ0R/8AAAMAAAMBqQAAAA4BnshqR/8AAAMAAAMBqQAAABdBms1JqEFsmUwIZ//+nhAAAAMAAAMDPwAAABBBnutFFSwj/wAAAwAAAwEHAAAADgGfCnRH/wAAAwAAAwGpAAAADgGfDGpH/wAAAwAAAwGpAAAAF0GbEUmoQWyZTAhn//6eEAAAAwAAAwM/AAAAEEGfL0UVLCP/AAADAAADAQcAAAAOAZ9OdEf/AAADAAADAakAAAAOAZ9Qakf/AAADAAADAakAAAAXQZtVSahBbJlMCGf//p4QAAADAAADAz8AAAAQQZ9zRRUsI/8AAAMAAAMBBwAAAA4Bn5J0R/8AAAMAAAMBqQAAAA4Bn5RqR/8AAAMAAAMBqQAAABdBm5lJqEFsmUwIZ//+nhAAAAMAAAMDPgAAABBBn7dFFSwj/wAAAwAAAwEHAAAADgGf1nRH/wAAAwAAAwGpAAAADgGf2GpH/wAAAwAAAwGpAAAAF0Gb3UmoQWyZTAhn//6eEAAAAwAAAwM/AAAAEEGf+0UVLCP/AAADAAADAQcAAAAOAZ4adEf/AAADAAADAakAAAAOAZ4cakf/AAADAAADAakAAAAXQZoBSahBbJlMCGf//p4QAAADAAADAz4AAAAQQZ4/RRUsI/8AAAMAAAMBBwAAAA4Bnl50R/8AAAMAAAMBqQAAAA4BnkBqR/8AAAMAAAMBqQAAABdBmkVJqEFsmUwIZ//+nhAAAAMAAAMDPwAAABBBnmNFFSwj/wAAAwAAAwEHAAAADgGegnRH/wAAAwAAAwGpAAAADgGehGpH/wAAAwAAAwGpAAAAF0GaiUmoQWyZTAhn//6eEAAAAwAAAwM/AAAAEEGep0UVLCP/AAADAAADAQcAAAAOAZ7GdEf/AAADAAADAakAAAAOAZ7Iakf/AAADAAADAakAAAAXQZrNSahBbJlMCGf//p4QAAADAAADAz8AAAAQQZ7rRRUsI/8AAAMAAAMBBwAAAA4Bnwp0R/8AAAMAAAMBqQAAAA4BnwxqR/8AAAMAAAMBqQAAABdBmxFJqEFsmUwIZ//+nhAAAAMAAAMDPwAAABBBny9FFSwj/wAAAwAAAwEHAAAADgGfTnRH/wAAAwAAAwGpAAAADgGfUGpH/wAAAwAAAwGpAAAAF0GbVUmoQWyZTAhn//6eEAAAAwAAAwM/AAAAEEGfc0UVLCP/AAADAAADAQcAAAAOAZ+SdEf/AAADAAADAakAAAAOAZ+Uakf/AAADAAADAakAAAAXQZuZSahBbJlMCF///oywAAADAAADA0IAAAAQQZ+3RRUsI/8AAAMAAAMBBwAAAA4Bn9Z0R/8AAAMAAAMBqQAAAA4Bn9hqR/8AAAMAAAMBqQAAABdBm91JqEFsmUwIX//+jLAAAAMAAAMDQwAAABBBn/tFFSwj/wAAAwAAAwEHAAAADgGeGnRH/wAAAwAAAwGpAAAADgGeHGpH/wAAAwAAAwGpAAAAF0GaAUmoQWyZTAhf//6MsAAAAwAAAwNCAAAAEEGeP0UVLCP/AAADAAADAQcAAAAOAZ5edEf/AAADAAADAakAAAAOAZ5Aakf/AAADAAADAakAAAAXQZpFSahBbJlMCE///fEAAAMAAAMAHpEAAAAQQZ5jRRUsI/8AAAMAAAMBBwAAAA4BnoJ0R/8AAAMAAAMBqQAAAA4BnoRqR/8AAAMAAAMBqQAAABdBmodJqEFsmUwUTH/8hAAAAwAAAwDAgQAAAA4BnqZqR/8AAAMAAAMBqQAAC8Ntb292AAAAbG12aGQAAAAAAAAAAAAAAAAAAAPoAAAPoAABAAABAAAAAAAAAAAAAAAAAQAAAAAAAAAAAAAAAAAAAAEAAAAAAAAAAAAAAAAAAEAAAAAAAAAAAAAAAAAAAAAAAAAAAAAAAAAAAAAAAAACAAAK7XRyYWsAAABcdGtoZAAAAAMAAAAAAAAAAAAAAAEAAAAAAAAPoAAAAAAAAAAAAAAAAAAAAAAAAQAAAAAAAAAAAAAAAAAAAAEAAAAAAAAAAAAAAAAAAEAAAAACWAAAAZAAAAAAACRlZHRzAAAAHGVsc3QAAAAAAAAAAQAAD6AAAAIAAAEAAAAACmVtZGlhAAAAIG1kaGQAAAAAAAAAAAAAAAAAADIAAADIAFXEAAAAAAAtaGRscgAAAAAAAAAAdmlkZQAAAAAAAAAAAAAAAFZpZGVvSGFuZGxlcgAAAAoQbWluZgAAABR2bWhkAAAAAQAAAAAAAAAAAAAAJGRpbmYAAAAcZHJlZgAAAAAAAAABAAAADHVybCAAAAABAAAJ0HN0YmwAAACYc3RzZAAAAAAAAAABAAAAiGF2YzEAAAAAAAAAAQAAAAAAAAAAAAAAAAAAAAACWAGQAEgAAABIAAAAAAAAAAEAAAAAAAAAAAAAAAAAAAAAAAAAAAAAAAAAAAAAAAAAAAAY//8AAAAyYXZjQwFkAB//4QAZZ2QAH6zZQJgz5eEAAAMAAQAAAwBkDxgxlgEABmjr48siwAAAABhzdHRzAAAAAAAAAAEAAADIAAABAAAAABRzdHNzAAAAAAAAAAEAAAABAAAFoGN0dHMAAAAAAAAAsgAAAAEAAAIAAAAAAQAABQAAAAABAAACAAAAAAEAAAAAAAAAAQAAAQAAAAABAAAFAAAAAAEAAAIAAAAAAQAAAAAAAAABAAABAAAAAAEAAAUAAAAAAQAAAgAAAAABAAAAAAAAAAEAAAEAAAAAAQAABQAAAAABAAACAAAAAAEAAAAAAAAAAQAAAQAAAAABAAADAAAAAAEAAAEAAAAAAQAABAAAAAACAAABAAAAAAIAAAIAAAAAAQAAAwAAAAABAAABAAAAAAEAAAMAAAAAAQAAAQAAAAABAAAEAAAAAAIAAAEAAAAAAQAABQAAAAABAAACAAAAAAEAAAAAAAAAAQAAAQAAAAABAAAFAAAAAAEAAAIAAAAAAQAAAAAAAAABAAABAAAAAAEAAAMAAAAAAQAAAQAAAAABAAACAAAAAAEAAAUAAAAAAQAAAgAAAAABAAAAAAAAAAEAAAEAAAAAAQAABAAAAAACAAABAAAAAAEAAAUAAAAAAQAAAgAAAAABAAAAAAAAAAEAAAEAAAAAAQAAAgAAAAABAAADAAAAAAEAAAEAAAAAAQAAAwAAAAABAAABAAAAAAIAAAIAAAAAAQAAAwAAAAABAAABAAAAAAIAAAIAAAAAAQAABAAAAAACAAABAAAAAAgAAAIAAAAAAQAAAwAAAAABAAABAAAAAAIAAAIAAAAAAQAAAwAAAAABAAABAAAAAAEAAAIAAAAAAQAAAwAAAAABAAABAAAAAAEAAAIAAAAAAQAAAwAAAAABAAABAAAAAAcAAAIAAAAAAQAAAwAAAAABAAABAAAAAAEAAAMAAAAAAQAAAQAAAAABAAACAAAAAAEAAAQAAAAAAgAAAQAAAAABAAAFAAAAAAEAAAIAAAAAAQAAAAAAAAABAAABAAAAAAEAAAUAAAAAAQAAAgAAAAABAAAAAAAAAAEAAAEAAAAAAQAABQAAAAABAAACAAAAAAEAAAAAAAAAAQAAAQAAAAABAAAFAAAAAAEAAAIAAAAAAQAAAAAAAAABAAABAAAAAAEAAAUAAAAAAQAAAgAAAAABAAAAAAAAAAEAAAEAAAAAAQAABQAAAAABAAACAAAAAAEAAAAAAAAAAQAAAQAAAAABAAAFAAAAAAEAAAIAAAAAAQAAAAAAAAABAAABAAAAAAEAAAUAAAAAAQAAAgAAAAABAAAAAAAAAAEAAAEAAAAAAQAABQAAAAABAAACAAAAAAEAAAAAAAAAAQAAAQAAAAABAAAFAAAAAAEAAAIAAAAAAQAAAAAAAAABAAABAAAAAAEAAAUAAAAAAQAAAgAAAAABAAAAAAAAAAEAAAEAAAAAAQAABQAAAAABAAACAAAAAAEAAAAAAAAAAQAAAQAAAAABAAAFAAAAAAEAAAIAAAAAAQAAAAAAAAABAAABAAAAAAEAAAUAAAAAAQAAAgAAAAABAAAAAAAAAAEAAAEAAAAAAQAABQAAAAABAAACAAAAAAEAAAAAAAAAAQAAAQAAAAABAAAFAAAAAAEAAAIAAAAAAQAAAAAAAAABAAABAAAAAAEAAAUAAAAAAQAAAgAAAAABAAAAAAAAAAEAAAEAAAAAAQAABQAAAAABAAACAAAAAAEAAAAAAAAAAQAAAQAAAAABAAAFAAAAAAEAAAIAAAAAAQAAAAAAAAABAAABAAAAAAEAAAUAAAAAAQAAAgAAAAABAAAAAAAAAAEAAAEAAAAAAQAABQAAAAABAAACAAAAAAEAAAAAAAAAAQAAAQAAAAABAAAFAAAAAAEAAAIAAAAAAQAAAAAAAAABAAABAAAAAAEAAAUAAAAAAQAAAgAAAAABAAAAAAAAAAEAAAEAAAAAAQAABQAAAAABAAACAAAAAAEAAAAAAAAAAQAAAQAAAAABAAADAAAAAAEAAAEAAAAAHHN0c2MAAAAAAAAAAQAAAAEAAADIAAAAAQAAAzRzdHN6AAAAAAAAAAAAAADIAAAEOwAAAFwAAAAzAAAAJAAAACYAAABwAAAANgAAAC4AAAAcAAAAqQAAADgAAAAzAAAAHgAAAMYAAABdAAAAOwAAAEQAAADAAAAAUAAAAPwAAABrAAAAWQAAAJUAAADeAAAA2QAAAFsAAADgAAAAZwAAATkAAACVAAAAXwAAAXAAAACvAAAAYAAAAFQAAAFAAAAA0wAAAGcAAABwAAAAxwAAAHIAAAD3AAAB5AAAASsAAAChAAAAkQAAAdoAAADEAAAAugAAASIAAAE7AAAAwAAAAJEAAAC5AAABRAAAAKAAAAGGAAAAnQAAARgAAADnAAABcQAAAI8AAADKAAAAugAAAMoAAAChAAAAkAAAAQUAAADnAAAAvAAAAIkAAAC9AAAAmAAAAJAAAAB5AAAArAAAAD0AAABnAAAAXAAAAHQAAAA3AAAAcAAAAH0AAABKAAAAhgAAAKwAAABNAAAAiQAAAIMAAABoAAAAagAAAFUAAABuAAAAfQAAAKQAAABJAAAAegAAAEcAAABbAAAALAAAADAAAAAaAAAAIQAAABcAAAAVAAAAEgAAABsAAAAUAAAAEgAAABIAAAAbAAAAFAAAABIAAAASAAAAGwAAABQAAAASAAAAEgAAABsAAAAUAAAAEgAAABIAAAAbAAAAFAAAABIAAAASAAAAGwAAABQAAAASAAAAEgAAABsAAAAUAAAAEgAAABIAAAAbAAAAFAAAABIAAAASAAAAGwAAABQAAAASAAAAEgAAABsAAAAUAAAAEgAAABIAAAAbAAAAFAAAABIAAAASAAAAGwAAABQAAAASAAAAEgAAABsAAAAUAAAAEgAAABIAAAAbAAAAFAAAABIAAAASAAAAGwAAABQAAAASAAAAEgAAABsAAAAUAAAAEgAAABIAAAAbAAAAFAAAABIAAAASAAAAGwAAABQAAAASAAAAEgAAABsAAAAUAAAAEgAAABIAAAAbAAAAFAAAABIAAAASAAAAGwAAABQAAAASAAAAEgAAABsAAAAUAAAAEgAAABIAAAAbAAAAFAAAABIAAAASAAAAGwAAABIAAAAUc3RjbwAAAAAAAAABAAAAMAAAAGJ1ZHRhAAAAWm1ldGEAAAAAAAAAIWhkbHIAAAAAAAAAAG1kaXJhcHBsAAAAAAAAAAAAAAAALWlsc3QAAAAlqXRvbwAAAB1kYXRhAAAAAQAAAABMYXZmNTguMjkuMTAw\" type=\"video/mp4\" />\n",
              "             </video>"
            ]
          },
          "metadata": {}
        }
      ]
    },
    {
      "cell_type": "markdown",
      "source": [
        "## Task 1"
      ],
      "metadata": {
        "id": "OlIQsSLzQBO-"
      },
      "id": "OlIQsSLzQBO-"
    },
    {
      "cell_type": "markdown",
      "source": [
        "Task 1 requires you to develop an RL agent using the OpenAI Gym library and demonstrate its correctness by sampling a random state from the cart pole environment and inputting it to the agent to get a chosen action."
      ],
      "metadata": {
        "id": "3fnvCbhlVzuQ"
      },
      "id": "3fnvCbhlVzuQ"
    },
    {
      "cell_type": "markdown",
      "source": [
        "### The DQN Agent"
      ],
      "metadata": {
        "id": "ni3G8l-fOuQs"
      },
      "id": "ni3G8l-fOuQs"
    },
    {
      "cell_type": "markdown",
      "source": [
        "This code is an implementation of the DQN (Deep Q-Network) algorithm to train an RL (Reinforcement Learning) agent to balance the pole on a cart in the cart pole environment. The code uses the OpenAI Gym library to interact with the environment and TensorFlow to define and train a neural network model that predicts Q-values for all possible actions in a given state.\n",
        "\n",
        "The DQN algorithm employs an epsilon-greedy policy to choose an action based on the predicted Q-values and the current value of epsilon. The code uses a replay buffer to store and sample past experiences to update the model parameters using the Bellman equation and mean squared error loss. The epsilon value is updated using a decay schedule during training."
      ],
      "metadata": {
        "id": "lx7osRX5Ymjo"
      },
      "id": "lx7osRX5Ymjo"
    },
    {
      "cell_type": "code",
      "source": [
        "import gym\n",
        "import numpy as np\n",
        "import tensorflow as tf\n",
        "from tensorflow.python.keras import layers\n",
        "import time \n",
        "# The DQN model can be defined as a type of neural network that receives a state as input and produces a collection of Q-values for all feasible actions\n",
        "class DQN(tf.keras.Model):\n",
        "    #  The neural network architecture comprises of two fully connected layers, each containing 24 units, and a linear output layer with a number of units equivalent to the total number of actions possible\n",
        "    def __init__(self, state_size, action_size):\n",
        "        super(DQN, self).__init__()\n",
        "        self.fc1 = layers.Dense(24, activation='relu')\n",
        "        self.fc2 = layers.Dense(24, activation='relu')\n",
        "        self.out = layers.Dense(action_size, activation='linear')\n",
        "    \n",
        "    # The input is processed through the layers of the network in a way that produces the output Q-values. Specifically, the input state is passed through the first fully connected layer, then through the second fully connected layer, and finally through the linear output layer to generate the Q-values for each possible action\n",
        "    def call(self, x):\n",
        "        x = self.fc1(x)\n",
        "        x = self.fc2(x)\n",
        "        x = self.out(x)\n",
        "        return x\n",
        "\n",
        "# The epsilon-greedy policy is a reinforcement learning decision-making strategy that randomly selects an action with a probability of epsilon, or chooses the action with the highest estimated reward (represented by Q-values) otherwise\n",
        "def epsilon_greedy_policy(q_values, epsilon):\n",
        "    if np.random.rand() < epsilon:\n",
        "        # Choose a random action with probability epsilon\n",
        "        action = np.random.choice(q_values.shape[1])\n",
        "    else:\n",
        "        # Choose the action with the highest estimated reward\n",
        "        action = np.argmax(q_values)\n",
        "    return action\n",
        "\n",
        "# Defining the DQN algorithm\n",
        "def dqn(env, num_episodes, max_steps, epsilon_start, epsilon_decay, epsilon_min):\n",
        "    # Retrieves the number of dimensions present in the state space of the environment\n",
        "    state_size = env.observation_space.shape[0]\n",
        "    # Determine the dimensionality of the state space in the environment\n",
        "    action_size = env.action_space.n\n",
        "    # Assign the previously defined function as the model\n",
        "    model = DQN(state_size, action_size)\n",
        "    # An Adam optimizer is instantiated with a learning rate of 0.001\n",
        "    optimizer = tf.optimizers.Adam(learning_rate=0.001)\n",
        "    # An empty list is created to store the transitions in the replay buffer\n",
        "    replay_buffer = []\n",
        "    # The starting value is used to initialize the epsilon value\n",
        "    epsilon = epsilon_start\n",
        "    # An empty list is created to accumulate the total reward obtained in each episode\n",
        "    scores = []\n",
        "    # An empty list is created to store the epsilon value for each episode\n",
        "    eps= []\n",
        "    # A loop is initiated over the designated number of episodes\n",
        "    for episode in range(num_episodes):\n",
        "        # The environment is reset, and the initial state is retrieved\n",
        "        state = env.reset()\n",
        "        total_reward = 0\n",
        "        # A loop is started for the designated maximum number of steps in each episode\n",
        "        for step in range(max_steps):\n",
        "            # The Q-values for the current state are obtained from the model\n",
        "            q_values = model(np.expand_dims(state, 0))\n",
        "            # An action is chosen using the epsilon-greedy policy, which considers the Q-values and the current value of epsilon\n",
        "            action = epsilon_greedy_policy(q_values.numpy(), epsilon)\n",
        "            # The chosen action is executed in the environment, and the resulting next state, reward, and done flag, indicating if the episode is complete, are observed\n",
        "            next_state, reward, done, _ = env.step(action)\n",
        "            # The reward obtained from the current step is added to the total reward accumulated in the current episode\n",
        "            total_reward += reward\n",
        "            # Sum up all the score\n",
        "            scores.append(total_reward)\n",
        "            # The transition is saved in the replay buffer\n",
        "            replay_buffer.append((state, action, reward, next_state, done))\n",
        "            if len(replay_buffer) > 1000:\n",
        "                replay_buffer.pop(0)\n",
        "            # If there are at least 32 transitions stored in the replay buffer, the model parameters will be updated\n",
        "            if len(replay_buffer) >= 32:\n",
        "                # The replay buffer randomly selects 32 transitions to pick elements from an array\n",
        "                samples = np.random.choice(len(replay_buffer), 32)\n",
        "                states = np.array([replay_buffer[i][0] for i in samples])\n",
        "                actions = np.array([replay_buffer[i][1] for i in samples])\n",
        "                rewards = np.array([replay_buffer[i][2] for i in samples])\n",
        "                next_states = np.array([replay_buffer[i][3] for i in samples])\n",
        "                dones = np.array([replay_buffer[i][4] for i in samples])\n",
        "                with tf.GradientTape() as tape:\n",
        "                    # This statement refers to the computation of Q-values for all possible actions in the current state\n",
        "                    q_values = model(states)\n",
        "                    # This sentence describes the computation of the Q-value for the chosen action, which is accomplished through the use of one-hot encoding\n",
        "                    q_values = tf.reduce_sum(q_values * tf.one_hot(actions, depth=action_size), axis=1)\n",
        "                    # This sentence explains that the Bellman equation is used to calculate the target Q-values for the input states and actions\n",
        "                    targets = rewards + (1.0 - dones) * 0.99 * tf.reduce_max(model(next_states), axis=1)\n",
        "                    # This sentence indicates that the mean squared error is calculated between the predicted Q-values and the target Q-values \n",
        "                    loss = tf.reduce_mean(tf.square(q_values - targets))\n",
        "                grads = tape.gradient(loss, model.trainable_variables)\n",
        "                optimizer.apply_gradients(zip(grads, model.trainable_variables))\n",
        "            state = next_state\n",
        "            if done:\n",
        "                break\n",
        "        # This block of code adjusts the value of epsilon using the epsilon decay schedule, records it in the eps list, and displays the total reward and epsilon for the current episode\n",
        "        epsilon = max(epsilon_min, epsilon_decay * epsilon)\n",
        "        eps.append(epsilon)\n",
        "        # Print the current episode and the corresponding reward and epsilon\n",
        "        print(\"Episode:{} -> Reward: {}, Epsilon: {}\".format(episode, total_reward,epsilon))\n",
        "        # Stop when the reward reaches the maximum one\n",
        "        if total_reward == 500:\n",
        "          break\n",
        "    return model,scores,epsilon\n"
      ],
      "metadata": {
        "id": "178GV8O2O0Xe"
      },
      "id": "178GV8O2O0Xe",
      "execution_count": 147,
      "outputs": []
    },
    {
      "cell_type": "markdown",
      "source": [
        "### Training the Agent"
      ],
      "metadata": {
        "id": "-KnN3GtcQJG8"
      },
      "id": "-KnN3GtcQJG8"
    },
    {
      "cell_type": "code",
      "source": [
        "# Create enviroment and test the model\n",
        "env = gym.make(\"CartPole-v1\")\n",
        "model,scores ,esp= dqn(env, num_episodes=1000, max_steps=500, epsilon_start=1.0, epsilon_decay=0.995, epsilon_min=0.01)\n",
        "# Save the model when a successfull state is reached\n",
        "model.save(\"models/dqn500\", save_format='tf')"
      ],
      "metadata": {
        "colab": {
          "base_uri": "https://localhost:8080/"
        },
        "id": "6WRPLrtF1hWi",
        "outputId": "5abffc27-bc4c-448c-9c9a-9c040a25043e"
      },
      "id": "6WRPLrtF1hWi",
      "execution_count": null,
      "outputs": [
        {
          "output_type": "stream",
          "name": "stderr",
          "text": [
            "/usr/local/lib/python3.9/dist-packages/gym/core.py:317: DeprecationWarning: \u001b[33mWARN: Initializing wrapper in old step API which returns one bool instead of two. It is recommended to set `new_step_api=True` to use new step API. This will be the default behaviour in future.\u001b[0m\n",
            "  deprecation(\n",
            "/usr/local/lib/python3.9/dist-packages/gym/wrappers/step_api_compatibility.py:39: DeprecationWarning: \u001b[33mWARN: Initializing environment in old step API which returns one bool instead of two. It is recommended to set `new_step_api=True` to use new step API. This will be the default behaviour in future.\u001b[0m\n",
            "  deprecation(\n"
          ]
        },
        {
          "output_type": "stream",
          "name": "stdout",
          "text": [
            "Episode:0 -> Reward: 9.0, Epsilon: 0.995\n",
            "Episode:1 -> Reward: 14.0, Epsilon: 0.990025\n",
            "Episode:2 -> Reward: 11.0, Epsilon: 0.985074875\n",
            "Episode:3 -> Reward: 12.0, Epsilon: 0.9801495006250001\n",
            "Episode:4 -> Reward: 29.0, Epsilon: 0.9752487531218751\n",
            "Episode:5 -> Reward: 28.0, Epsilon: 0.9703725093562657\n",
            "Episode:6 -> Reward: 29.0, Epsilon: 0.9655206468094844\n",
            "Episode:7 -> Reward: 16.0, Epsilon: 0.960693043575437\n",
            "Episode:8 -> Reward: 31.0, Epsilon: 0.9558895783575597\n",
            "Episode:9 -> Reward: 20.0, Epsilon: 0.9511101304657719\n",
            "Episode:10 -> Reward: 23.0, Epsilon: 0.946354579813443\n",
            "Episode:11 -> Reward: 18.0, Epsilon: 0.9416228069143757\n",
            "Episode:12 -> Reward: 17.0, Epsilon: 0.9369146928798039\n",
            "Episode:13 -> Reward: 11.0, Epsilon: 0.9322301194154049\n",
            "Episode:14 -> Reward: 48.0, Epsilon: 0.9275689688183278\n",
            "Episode:15 -> Reward: 20.0, Epsilon: 0.9229311239742362\n",
            "Episode:16 -> Reward: 20.0, Epsilon: 0.918316468354365\n",
            "Episode:17 -> Reward: 21.0, Epsilon: 0.9137248860125932\n",
            "Episode:18 -> Reward: 36.0, Epsilon: 0.9091562615825302\n",
            "Episode:19 -> Reward: 13.0, Epsilon: 0.9046104802746175\n",
            "Episode:20 -> Reward: 13.0, Epsilon: 0.9000874278732445\n",
            "Episode:21 -> Reward: 10.0, Epsilon: 0.8955869907338783\n",
            "Episode:22 -> Reward: 11.0, Epsilon: 0.8911090557802088\n",
            "Episode:23 -> Reward: 29.0, Epsilon: 0.8866535105013078\n",
            "Episode:24 -> Reward: 17.0, Epsilon: 0.8822202429488013\n",
            "Episode:25 -> Reward: 21.0, Epsilon: 0.8778091417340573\n",
            "Episode:26 -> Reward: 15.0, Epsilon: 0.8734200960253871\n",
            "Episode:27 -> Reward: 18.0, Epsilon: 0.8690529955452602\n",
            "Episode:28 -> Reward: 35.0, Epsilon: 0.8647077305675338\n",
            "Episode:29 -> Reward: 18.0, Epsilon: 0.8603841919146962\n",
            "Episode:30 -> Reward: 19.0, Epsilon: 0.8560822709551227\n",
            "Episode:31 -> Reward: 16.0, Epsilon: 0.851801859600347\n",
            "Episode:32 -> Reward: 27.0, Epsilon: 0.8475428503023453\n",
            "Episode:33 -> Reward: 19.0, Epsilon: 0.8433051360508336\n",
            "Episode:34 -> Reward: 13.0, Epsilon: 0.8390886103705794\n",
            "Episode:35 -> Reward: 17.0, Epsilon: 0.8348931673187264\n",
            "Episode:36 -> Reward: 46.0, Epsilon: 0.8307187014821328\n",
            "Episode:37 -> Reward: 23.0, Epsilon: 0.8265651079747222\n",
            "Episode:38 -> Reward: 15.0, Epsilon: 0.8224322824348486\n",
            "Episode:39 -> Reward: 14.0, Epsilon: 0.8183201210226743\n",
            "Episode:40 -> Reward: 13.0, Epsilon: 0.8142285204175609\n",
            "Episode:41 -> Reward: 24.0, Epsilon: 0.810157377815473\n",
            "Episode:42 -> Reward: 25.0, Epsilon: 0.8061065909263957\n",
            "Episode:43 -> Reward: 17.0, Epsilon: 0.8020760579717637\n",
            "Episode:44 -> Reward: 20.0, Epsilon: 0.798065677681905\n",
            "Episode:45 -> Reward: 12.0, Epsilon: 0.7940753492934954\n",
            "Episode:46 -> Reward: 14.0, Epsilon: 0.7901049725470279\n",
            "Episode:47 -> Reward: 23.0, Epsilon: 0.7861544476842928\n",
            "Episode:48 -> Reward: 48.0, Epsilon: 0.7822236754458713\n",
            "Episode:49 -> Reward: 17.0, Epsilon: 0.778312557068642\n",
            "Episode:50 -> Reward: 25.0, Epsilon: 0.7744209942832988\n",
            "Episode:51 -> Reward: 9.0, Epsilon: 0.7705488893118823\n",
            "Episode:52 -> Reward: 33.0, Epsilon: 0.7666961448653229\n",
            "Episode:53 -> Reward: 20.0, Epsilon: 0.7628626641409962\n",
            "Episode:54 -> Reward: 12.0, Epsilon: 0.7590483508202912\n",
            "Episode:55 -> Reward: 38.0, Epsilon: 0.7552531090661897\n",
            "Episode:56 -> Reward: 9.0, Epsilon: 0.7514768435208588\n",
            "Episode:57 -> Reward: 25.0, Epsilon: 0.7477194593032545\n",
            "Episode:58 -> Reward: 10.0, Epsilon: 0.7439808620067382\n",
            "Episode:59 -> Reward: 12.0, Epsilon: 0.7402609576967045\n",
            "Episode:60 -> Reward: 49.0, Epsilon: 0.736559652908221\n",
            "Episode:61 -> Reward: 18.0, Epsilon: 0.7328768546436799\n",
            "Episode:62 -> Reward: 19.0, Epsilon: 0.7292124703704616\n",
            "Episode:63 -> Reward: 10.0, Epsilon: 0.7255664080186093\n",
            "Episode:64 -> Reward: 11.0, Epsilon: 0.7219385759785162\n",
            "Episode:65 -> Reward: 58.0, Epsilon: 0.7183288830986236\n",
            "Episode:66 -> Reward: 35.0, Epsilon: 0.7147372386831305\n",
            "Episode:67 -> Reward: 22.0, Epsilon: 0.7111635524897149\n",
            "Episode:68 -> Reward: 11.0, Epsilon: 0.7076077347272662\n",
            "Episode:69 -> Reward: 12.0, Epsilon: 0.7040696960536299\n",
            "Episode:70 -> Reward: 22.0, Epsilon: 0.7005493475733617\n",
            "Episode:71 -> Reward: 56.0, Epsilon: 0.697046600835495\n",
            "Episode:72 -> Reward: 12.0, Epsilon: 0.6935613678313175\n",
            "Episode:73 -> Reward: 16.0, Epsilon: 0.6900935609921609\n",
            "Episode:74 -> Reward: 58.0, Epsilon: 0.6866430931872001\n",
            "Episode:75 -> Reward: 12.0, Epsilon: 0.6832098777212641\n",
            "Episode:76 -> Reward: 35.0, Epsilon: 0.6797938283326578\n",
            "Episode:77 -> Reward: 21.0, Epsilon: 0.6763948591909945\n",
            "Episode:78 -> Reward: 14.0, Epsilon: 0.6730128848950395\n",
            "Episode:79 -> Reward: 16.0, Epsilon: 0.6696478204705644\n",
            "Episode:80 -> Reward: 34.0, Epsilon: 0.6662995813682115\n",
            "Episode:81 -> Reward: 18.0, Epsilon: 0.6629680834613705\n",
            "Episode:82 -> Reward: 23.0, Epsilon: 0.6596532430440636\n",
            "Episode:83 -> Reward: 9.0, Epsilon: 0.6563549768288433\n",
            "Episode:84 -> Reward: 61.0, Epsilon: 0.653073201944699\n",
            "Episode:85 -> Reward: 14.0, Epsilon: 0.6498078359349755\n",
            "Episode:86 -> Reward: 26.0, Epsilon: 0.6465587967553006\n",
            "Episode:87 -> Reward: 17.0, Epsilon: 0.6433260027715241\n",
            "Episode:88 -> Reward: 16.0, Epsilon: 0.6401093727576664\n",
            "Episode:89 -> Reward: 15.0, Epsilon: 0.6369088258938781\n",
            "Episode:90 -> Reward: 31.0, Epsilon: 0.6337242817644086\n",
            "Episode:91 -> Reward: 11.0, Epsilon: 0.6305556603555866\n",
            "Episode:92 -> Reward: 16.0, Epsilon: 0.6274028820538087\n",
            "Episode:93 -> Reward: 12.0, Epsilon: 0.6242658676435396\n",
            "Episode:94 -> Reward: 20.0, Epsilon: 0.6211445383053219\n",
            "Episode:95 -> Reward: 16.0, Epsilon: 0.6180388156137953\n",
            "Episode:96 -> Reward: 34.0, Epsilon: 0.6149486215357263\n",
            "Episode:97 -> Reward: 24.0, Epsilon: 0.6118738784280476\n",
            "Episode:98 -> Reward: 53.0, Epsilon: 0.6088145090359074\n",
            "Episode:99 -> Reward: 13.0, Epsilon: 0.6057704364907278\n",
            "Episode:100 -> Reward: 26.0, Epsilon: 0.6027415843082742\n",
            "Episode:101 -> Reward: 31.0, Epsilon: 0.5997278763867329\n",
            "Episode:102 -> Reward: 37.0, Epsilon: 0.5967292370047992\n",
            "Episode:103 -> Reward: 16.0, Epsilon: 0.5937455908197752\n",
            "Episode:104 -> Reward: 11.0, Epsilon: 0.5907768628656763\n",
            "Episode:105 -> Reward: 41.0, Epsilon: 0.5878229785513479\n",
            "Episode:106 -> Reward: 19.0, Epsilon: 0.5848838636585911\n",
            "Episode:107 -> Reward: 21.0, Epsilon: 0.5819594443402982\n",
            "Episode:108 -> Reward: 37.0, Epsilon: 0.5790496471185967\n",
            "Episode:109 -> Reward: 15.0, Epsilon: 0.5761543988830038\n",
            "Episode:110 -> Reward: 17.0, Epsilon: 0.5732736268885887\n",
            "Episode:111 -> Reward: 17.0, Epsilon: 0.5704072587541458\n",
            "Episode:112 -> Reward: 16.0, Epsilon: 0.567555222460375\n",
            "Episode:113 -> Reward: 66.0, Epsilon: 0.5647174463480732\n",
            "Episode:114 -> Reward: 27.0, Epsilon: 0.5618938591163328\n",
            "Episode:115 -> Reward: 12.0, Epsilon: 0.5590843898207511\n",
            "Episode:116 -> Reward: 22.0, Epsilon: 0.5562889678716474\n",
            "Episode:117 -> Reward: 69.0, Epsilon: 0.5535075230322891\n",
            "Episode:118 -> Reward: 14.0, Epsilon: 0.5507399854171277\n",
            "Episode:119 -> Reward: 24.0, Epsilon: 0.547986285490042\n",
            "Episode:120 -> Reward: 42.0, Epsilon: 0.5452463540625918\n",
            "Episode:121 -> Reward: 13.0, Epsilon: 0.5425201222922789\n",
            "Episode:122 -> Reward: 85.0, Epsilon: 0.5398075216808175\n",
            "Episode:123 -> Reward: 23.0, Epsilon: 0.5371084840724134\n",
            "Episode:124 -> Reward: 16.0, Epsilon: 0.5344229416520513\n",
            "Episode:125 -> Reward: 45.0, Epsilon: 0.531750826943791\n",
            "Episode:126 -> Reward: 28.0, Epsilon: 0.5290920728090721\n",
            "Episode:127 -> Reward: 73.0, Epsilon: 0.5264466124450268\n",
            "Episode:128 -> Reward: 32.0, Epsilon: 0.5238143793828016\n",
            "Episode:129 -> Reward: 22.0, Epsilon: 0.5211953074858876\n",
            "Episode:130 -> Reward: 17.0, Epsilon: 0.5185893309484582\n",
            "Episode:131 -> Reward: 16.0, Epsilon: 0.5159963842937159\n",
            "Episode:132 -> Reward: 15.0, Epsilon: 0.5134164023722473\n",
            "Episode:133 -> Reward: 15.0, Epsilon: 0.510849320360386\n",
            "Episode:134 -> Reward: 41.0, Epsilon: 0.5082950737585841\n",
            "Episode:135 -> Reward: 39.0, Epsilon: 0.5057535983897912\n",
            "Episode:136 -> Reward: 40.0, Epsilon: 0.5032248303978422\n",
            "Episode:137 -> Reward: 50.0, Epsilon: 0.500708706245853\n",
            "Episode:138 -> Reward: 41.0, Epsilon: 0.4982051627146237\n",
            "Episode:139 -> Reward: 16.0, Epsilon: 0.49571413690105054\n",
            "Episode:140 -> Reward: 23.0, Epsilon: 0.4932355662165453\n",
            "Episode:141 -> Reward: 69.0, Epsilon: 0.4907693883854626\n",
            "Episode:142 -> Reward: 46.0, Epsilon: 0.4883155414435353\n",
            "Episode:143 -> Reward: 14.0, Epsilon: 0.4858739637363176\n",
            "Episode:144 -> Reward: 14.0, Epsilon: 0.483444593917636\n",
            "Episode:145 -> Reward: 38.0, Epsilon: 0.4810273709480478\n",
            "Episode:146 -> Reward: 101.0, Epsilon: 0.47862223409330756\n",
            "Episode:147 -> Reward: 36.0, Epsilon: 0.47622912292284103\n",
            "Episode:148 -> Reward: 27.0, Epsilon: 0.4738479773082268\n",
            "Episode:149 -> Reward: 24.0, Epsilon: 0.47147873742168567\n",
            "Episode:150 -> Reward: 14.0, Epsilon: 0.46912134373457726\n",
            "Episode:151 -> Reward: 60.0, Epsilon: 0.46677573701590436\n",
            "Episode:152 -> Reward: 13.0, Epsilon: 0.46444185833082485\n",
            "Episode:153 -> Reward: 23.0, Epsilon: 0.46211964903917074\n",
            "Episode:154 -> Reward: 31.0, Epsilon: 0.4598090507939749\n",
            "Episode:155 -> Reward: 93.0, Epsilon: 0.457510005540005\n",
            "Episode:156 -> Reward: 45.0, Epsilon: 0.45522245551230495\n",
            "Episode:157 -> Reward: 50.0, Epsilon: 0.4529463432347434\n",
            "Episode:158 -> Reward: 69.0, Epsilon: 0.4506816115185697\n",
            "Episode:159 -> Reward: 68.0, Epsilon: 0.4484282034609769\n",
            "Episode:160 -> Reward: 100.0, Epsilon: 0.446186062443672\n",
            "Episode:161 -> Reward: 72.0, Epsilon: 0.4439551321314536\n",
            "Episode:162 -> Reward: 82.0, Epsilon: 0.4417353564707963\n",
            "Episode:163 -> Reward: 95.0, Epsilon: 0.43952667968844233\n",
            "Episode:164 -> Reward: 18.0, Epsilon: 0.43732904629000013\n",
            "Episode:165 -> Reward: 45.0, Epsilon: 0.4351424010585501\n",
            "Episode:166 -> Reward: 105.0, Epsilon: 0.43296668905325736\n",
            "Episode:167 -> Reward: 57.0, Epsilon: 0.43080185560799106\n",
            "Episode:168 -> Reward: 137.0, Epsilon: 0.4286478463299511\n",
            "Episode:169 -> Reward: 235.0, Epsilon: 0.42650460709830135\n",
            "Episode:170 -> Reward: 72.0, Epsilon: 0.42437208406280985\n",
            "Episode:171 -> Reward: 101.0, Epsilon: 0.4222502236424958\n",
            "Episode:172 -> Reward: 77.0, Epsilon: 0.42013897252428334\n",
            "Episode:173 -> Reward: 17.0, Epsilon: 0.4180382776616619\n",
            "Episode:174 -> Reward: 110.0, Epsilon: 0.4159480862733536\n",
            "Episode:175 -> Reward: 90.0, Epsilon: 0.41386834584198684\n",
            "Episode:176 -> Reward: 62.0, Epsilon: 0.4117990041127769\n",
            "Episode:177 -> Reward: 87.0, Epsilon: 0.40974000909221303\n",
            "Episode:178 -> Reward: 79.0, Epsilon: 0.40769130904675194\n",
            "Episode:179 -> Reward: 43.0, Epsilon: 0.40565285250151817\n",
            "Episode:180 -> Reward: 63.0, Epsilon: 0.4036245882390106\n",
            "Episode:181 -> Reward: 111.0, Epsilon: 0.4016064652978155\n",
            "Episode:182 -> Reward: 31.0, Epsilon: 0.3995984329713264\n",
            "Episode:183 -> Reward: 35.0, Epsilon: 0.3976004408064698\n",
            "Episode:184 -> Reward: 121.0, Epsilon: 0.39561243860243744\n",
            "Episode:185 -> Reward: 46.0, Epsilon: 0.3936343764094253\n",
            "Episode:186 -> Reward: 41.0, Epsilon: 0.39166620452737816\n",
            "Episode:187 -> Reward: 118.0, Epsilon: 0.3897078735047413\n",
            "Episode:188 -> Reward: 17.0, Epsilon: 0.3877593341372176\n",
            "Episode:189 -> Reward: 125.0, Epsilon: 0.3858205374665315\n",
            "Episode:190 -> Reward: 106.0, Epsilon: 0.38389143477919885\n",
            "Episode:191 -> Reward: 68.0, Epsilon: 0.3819719776053028\n",
            "Episode:192 -> Reward: 87.0, Epsilon: 0.3800621177172763\n",
            "Episode:193 -> Reward: 116.0, Epsilon: 0.37816180712868996\n",
            "Episode:194 -> Reward: 70.0, Epsilon: 0.37627099809304654\n",
            "Episode:195 -> Reward: 52.0, Epsilon: 0.3743896431025813\n",
            "Episode:196 -> Reward: 146.0, Epsilon: 0.37251769488706843\n",
            "Episode:197 -> Reward: 63.0, Epsilon: 0.3706551064126331\n",
            "Episode:198 -> Reward: 147.0, Epsilon: 0.36880183088056995\n",
            "Episode:199 -> Reward: 14.0, Epsilon: 0.3669578217261671\n",
            "Episode:200 -> Reward: 263.0, Epsilon: 0.36512303261753626\n",
            "Episode:201 -> Reward: 404.0, Epsilon: 0.3632974174544486\n",
            "Episode:202 -> Reward: 126.0, Epsilon: 0.3614809303671764\n",
            "Episode:203 -> Reward: 19.0, Epsilon: 0.3596735257153405\n",
            "Episode:204 -> Reward: 10.0, Epsilon: 0.3578751580867638\n",
            "Episode:205 -> Reward: 66.0, Epsilon: 0.35608578229633\n",
            "Episode:206 -> Reward: 140.0, Epsilon: 0.3543053533848483\n",
            "Episode:207 -> Reward: 70.0, Epsilon: 0.35253382661792404\n",
            "Episode:208 -> Reward: 150.0, Epsilon: 0.3507711574848344\n",
            "Episode:209 -> Reward: 61.0, Epsilon: 0.34901730169741024\n",
            "Episode:210 -> Reward: 172.0, Epsilon: 0.3472722151889232\n",
            "Episode:211 -> Reward: 182.0, Epsilon: 0.3455358541129786\n",
            "Episode:212 -> Reward: 127.0, Epsilon: 0.3438081748424137\n",
            "Episode:213 -> Reward: 96.0, Epsilon: 0.3420891339682016\n",
            "Episode:214 -> Reward: 17.0, Epsilon: 0.3403786882983606\n",
            "Episode:215 -> Reward: 49.0, Epsilon: 0.3386767948568688\n",
            "Episode:216 -> Reward: 177.0, Epsilon: 0.33698341088258443\n",
            "Episode:217 -> Reward: 161.0, Epsilon: 0.3352984938281715\n",
            "Episode:218 -> Reward: 226.0, Epsilon: 0.33362200135903064\n",
            "Episode:219 -> Reward: 491.0, Epsilon: 0.33195389135223546\n",
            "Episode:220 -> Reward: 90.0, Epsilon: 0.3302941218954743\n",
            "Episode:221 -> Reward: 109.0, Epsilon: 0.32864265128599696\n",
            "Episode:222 -> Reward: 110.0, Epsilon: 0.326999438029567\n",
            "Episode:223 -> Reward: 96.0, Epsilon: 0.3253644408394192\n",
            "Episode:224 -> Reward: 21.0, Epsilon: 0.3237376186352221\n",
            "Episode:225 -> Reward: 17.0, Epsilon: 0.322118930542046\n",
            "Episode:226 -> Reward: 115.0, Epsilon: 0.32050833588933575\n",
            "Episode:227 -> Reward: 129.0, Epsilon: 0.31890579420988907\n",
            "Episode:228 -> Reward: 151.0, Epsilon: 0.3173112652388396\n",
            "Episode:229 -> Reward: 201.0, Epsilon: 0.3157247089126454\n",
            "Episode:230 -> Reward: 108.0, Epsilon: 0.3141460853680822\n",
            "Episode:231 -> Reward: 35.0, Epsilon: 0.3125753549412418\n",
            "Episode:232 -> Reward: 91.0, Epsilon: 0.31101247816653554\n",
            "Episode:233 -> Reward: 217.0, Epsilon: 0.30945741577570285\n",
            "Episode:234 -> Reward: 224.0, Epsilon: 0.3079101286968243\n",
            "Episode:235 -> Reward: 167.0, Epsilon: 0.3063705780533402\n",
            "Episode:236 -> Reward: 86.0, Epsilon: 0.30483872516307353\n",
            "Episode:237 -> Reward: 74.0, Epsilon: 0.3033145315372582\n",
            "Episode:238 -> Reward: 54.0, Epsilon: 0.3017979588795719\n",
            "Episode:239 -> Reward: 103.0, Epsilon: 0.30028896908517405\n",
            "Episode:240 -> Reward: 137.0, Epsilon: 0.2987875242397482\n",
            "Episode:241 -> Reward: 223.0, Epsilon: 0.29729358661854943\n",
            "Episode:242 -> Reward: 119.0, Epsilon: 0.29580711868545667\n",
            "Episode:243 -> Reward: 44.0, Epsilon: 0.2943280830920294\n",
            "Episode:244 -> Reward: 127.0, Epsilon: 0.29285644267656924\n",
            "Episode:245 -> Reward: 48.0, Epsilon: 0.2913921604631864\n",
            "Episode:246 -> Reward: 141.0, Epsilon: 0.28993519966087045\n",
            "Episode:247 -> Reward: 117.0, Epsilon: 0.2884855236625661\n",
            "Episode:248 -> Reward: 70.0, Epsilon: 0.28704309604425327\n",
            "Episode:249 -> Reward: 100.0, Epsilon: 0.285607880564032\n",
            "Episode:250 -> Reward: 83.0, Epsilon: 0.28417984116121187\n",
            "Episode:251 -> Reward: 114.0, Epsilon: 0.2827589419554058\n",
            "Episode:252 -> Reward: 95.0, Epsilon: 0.28134514724562876\n",
            "Episode:253 -> Reward: 134.0, Epsilon: 0.2799384215094006\n",
            "Episode:254 -> Reward: 89.0, Epsilon: 0.27853872940185365\n",
            "Episode:255 -> Reward: 125.0, Epsilon: 0.27714603575484437\n",
            "Episode:256 -> Reward: 148.0, Epsilon: 0.2757603055760701\n",
            "Episode:257 -> Reward: 241.0, Epsilon: 0.2743815040481898\n",
            "Episode:258 -> Reward: 88.0, Epsilon: 0.2730095965279488\n",
            "Episode:259 -> Reward: 115.0, Epsilon: 0.27164454854530906\n",
            "Episode:260 -> Reward: 133.0, Epsilon: 0.2702863258025825\n",
            "Episode:261 -> Reward: 192.0, Epsilon: 0.2689348941735696\n",
            "Episode:262 -> Reward: 473.0, Epsilon: 0.26759021970270175\n",
            "Episode:263 -> Reward: 500.0, Epsilon: 0.2662522686041882\n"
          ]
        },
        {
          "output_type": "stream",
          "name": "stderr",
          "text": [
            "WARNING:absl:Found untraced functions such as dense_24_layer_call_fn, dense_24_layer_call_and_return_conditional_losses, dense_25_layer_call_fn, dense_25_layer_call_and_return_conditional_losses, dense_26_layer_call_fn while saving (showing 5 of 6). These functions will not be directly callable after loading.\n"
          ]
        }
      ]
    },
    {
      "cell_type": "markdown",
      "source": [
        "### Showing the Training Stats"
      ],
      "metadata": {
        "id": "Qb0o3INijmdR"
      },
      "id": "Qb0o3INijmdR"
    },
    {
      "cell_type": "markdown",
      "source": [
        "First, we have to get the data as an array of numbers, each number represents the reward for an episode."
      ],
      "metadata": {
        "id": "ND7l1WK9jsUg"
      },
      "id": "ND7l1WK9jsUg"
    },
    {
      "cell_type": "code",
      "source": [
        "# Getting the file with the saved output from the previous code cell\n",
        "scores_file = open('data/dqn_scores.txt', 'r')\n",
        "# Getting the lines of the file\n",
        "lines = scores_file.readlines()\n",
        "# Creating an array to store the scores\n",
        "scores_array = []\n",
        "# Manipulating the lines to get the rewards values\n",
        "for line in lines:\n",
        "    line_content = line.split(\" \")\n",
        "    scores_array.append(float(line_content[3][:-1]))\n",
        "# Print the arrays\n",
        "print(scores_array)"
      ],
      "metadata": {
        "colab": {
          "base_uri": "https://localhost:8080/"
        },
        "id": "D_QtZJQsswPS",
        "outputId": "118bcd03-ec53-4354-89a3-2694a0c93fa8"
      },
      "id": "D_QtZJQsswPS",
      "execution_count": 148,
      "outputs": [
        {
          "output_type": "stream",
          "name": "stdout",
          "text": [
            "[9.0, 14.0, 11.0, 12.0, 29.0, 28.0, 29.0, 16.0, 31.0, 20.0, 23.0, 18.0, 17.0, 11.0, 48.0, 20.0, 20.0, 21.0, 36.0, 13.0, 13.0, 10.0, 11.0, 29.0, 17.0, 21.0, 15.0, 18.0, 35.0, 18.0, 19.0, 16.0, 27.0, 19.0, 13.0, 17.0, 46.0, 23.0, 15.0, 14.0, 13.0, 24.0, 25.0, 17.0, 20.0, 12.0, 14.0, 23.0, 48.0, 17.0, 25.0, 9.0, 33.0, 20.0, 12.0, 38.0, 9.0, 25.0, 10.0, 12.0, 49.0, 18.0, 19.0, 10.0, 11.0, 58.0, 35.0, 22.0, 11.0, 12.0, 22.0, 56.0, 12.0, 16.0, 58.0, 12.0, 35.0, 21.0, 14.0, 16.0, 34.0, 18.0, 23.0, 9.0, 61.0, 14.0, 26.0, 17.0, 16.0, 15.0, 31.0, 11.0, 16.0, 12.0, 20.0, 16.0, 34.0, 24.0, 53.0, 13.0, 26.0, 31.0, 37.0, 16.0, 11.0, 41.0, 19.0, 21.0, 37.0, 15.0, 17.0, 17.0, 16.0, 66.0, 27.0, 12.0, 22.0, 69.0, 14.0, 24.0, 42.0, 13.0, 85.0, 23.0, 16.0, 45.0, 28.0, 73.0, 32.0, 22.0, 17.0, 16.0, 15.0, 15.0, 41.0, 39.0, 40.0, 50.0, 41.0, 16.0, 23.0, 69.0, 46.0, 14.0, 14.0, 38.0, 101.0, 36.0, 27.0, 24.0, 14.0, 60.0, 13.0, 23.0, 31.0, 93.0, 45.0, 50.0, 69.0, 68.0, 100.0, 72.0, 82.0, 95.0, 18.0, 45.0, 105.0, 57.0, 137.0, 235.0, 72.0, 101.0, 77.0, 17.0, 110.0, 90.0, 62.0, 87.0, 79.0, 43.0, 63.0, 111.0, 31.0, 35.0, 121.0, 46.0, 41.0, 118.0, 17.0, 125.0, 106.0, 68.0, 87.0, 116.0, 70.0, 52.0, 146.0, 63.0, 147.0, 14.0, 263.0, 404.0, 126.0, 19.0, 10.0, 66.0, 140.0, 70.0, 150.0, 61.0, 172.0, 182.0, 127.0, 96.0, 17.0, 49.0, 177.0, 161.0, 226.0, 491.0, 90.0, 109.0, 110.0, 96.0, 21.0, 17.0, 115.0, 129.0, 151.0, 201.0, 108.0, 35.0, 91.0, 217.0, 224.0, 167.0, 86.0, 74.0, 54.0, 103.0, 137.0, 223.0, 119.0, 44.0, 127.0, 48.0, 141.0, 117.0, 70.0, 100.0, 83.0, 114.0, 95.0, 134.0, 89.0, 125.0, 148.0, 241.0, 88.0, 115.0, 133.0, 192.0, 473.0, 500.0]\n"
          ]
        }
      ]
    },
    {
      "cell_type": "code",
      "source": [
        "# Plotting the rewards of the episodes that the agent played\n",
        "import matplotlib.pyplot as plt\n",
        "plt.plot(scores_array)\n",
        "plt.xlabel('Episode')\n",
        "plt.ylabel('Score')\n",
        "plt.show()"
      ],
      "metadata": {
        "colab": {
          "base_uri": "https://localhost:8080/",
          "height": 279
        },
        "id": "_HnBJ50Yiri2",
        "outputId": "73b9c9d7-bd06-4351-b486-1d1a3005df0e"
      },
      "id": "_HnBJ50Yiri2",
      "execution_count": 149,
      "outputs": [
        {
          "output_type": "display_data",
          "data": {
            "text/plain": [
              "<Figure size 432x288 with 1 Axes>"
            ],
            "image/png": "[encoded data removed]"
          },
          "metadata": {
            "needs_background": "light"
          }
        }
      ]
    },
    {
      "cell_type": "markdown",
      "source": [
        "### Testing Action for a Random State"
      ],
      "metadata": {
        "id": "r4SAN8qwj56l"
      },
      "id": "r4SAN8qwj56l"
    },
    {
      "cell_type": "markdown",
      "source": [
        "Loading the model"
      ],
      "metadata": {
        "id": "VvcJfxqmkZ-A"
      },
      "id": "VvcJfxqmkZ-A"
    },
    {
      "cell_type": "code",
      "source": [
        "# Getting the model\n",
        "model = tf.saved_model.load(\"models/dqn500\")"
      ],
      "metadata": {
        "id": "nSlSQcD9kbff"
      },
      "id": "nSlSQcD9kbff",
      "execution_count": 150,
      "outputs": []
    },
    {
      "cell_type": "markdown",
      "source": [
        "Creating an enviroment with a random state and getting the action from the model."
      ],
      "metadata": {
        "id": "3__bGWnXlTzH"
      },
      "id": "3__bGWnXlTzH"
    },
    {
      "cell_type": "code",
      "source": [
        "# Creating an enviroment\n",
        "env = gym.make(\"CartPole-v1\")\n",
        "observation = env.reset()\n",
        "# Running the model on this sample state\n",
        "q_values = model(np.expand_dims(observation, 0))\n",
        "action = epsilon_greedy_policy(q_values.numpy(), 0.01)\n",
        "print(\"Observation:\", observation)\n",
        "print(\"Chosen action:\", action)\n"
      ],
      "metadata": {
        "colab": {
          "base_uri": "https://localhost:8080/"
        },
        "id": "2J--TKuNj5lc",
        "outputId": "1db58b21-8de2-48b1-c7a2-2792a3239a42"
      },
      "id": "2J--TKuNj5lc",
      "execution_count": 151,
      "outputs": [
        {
          "output_type": "stream",
          "name": "stdout",
          "text": [
            "Observation: [-0.04566394  0.01511456 -0.00750988 -0.04276762]\n",
            "Chosen action: 0\n"
          ]
        },
        {
          "output_type": "stream",
          "name": "stderr",
          "text": [
            "/usr/local/lib/python3.9/dist-packages/gym/core.py:317: DeprecationWarning: \u001b[33mWARN: Initializing wrapper in old step API which returns one bool instead of two. It is recommended to set `new_step_api=True` to use new step API. This will be the default behaviour in future.\u001b[0m\n",
            "  deprecation(\n",
            "/usr/local/lib/python3.9/dist-packages/gym/wrappers/step_api_compatibility.py:39: DeprecationWarning: \u001b[33mWARN: Initializing environment in old step API which returns one bool instead of two. It is recommended to set `new_step_api=True` to use new step API. This will be the default behaviour in future.\u001b[0m\n",
            "  deprecation(\n"
          ]
        }
      ]
    },
    {
      "cell_type": "markdown",
      "source": [
        "## Task 2"
      ],
      "metadata": {
        "id": "rVKhZSrClewA"
      },
      "id": "rVKhZSrClewA"
    },
    {
      "cell_type": "markdown",
      "source": [
        "Develop an RL agent that can effectively balance the pole on the cart in the cart pole environment. Run the agent for 100 episodes by resetting the environment at the beginning of each episode. Plot the cumulative reward against all episodes in Jupyter notebook and print the average reward over the 100 episodes. The average reward should be greater than 195."
      ],
      "metadata": {
        "id": "RhXRuS5LV2gw"
      },
      "id": "RhXRuS5LV2gw"
    },
    {
      "cell_type": "markdown",
      "source": [
        "### Testing for 100 Episodes"
      ],
      "metadata": {
        "id": "pzwS99W8So5O"
      },
      "id": "pzwS99W8So5O"
    },
    {
      "cell_type": "code",
      "source": [
        "# Getting the observation from the enviroment\n",
        "observation = env.reset()\n",
        "current_reward = 0\n",
        "total_reward = 0\n",
        "rewards_list = []\n",
        "for i in range(100):\n",
        "  print(\"Episode: \"+str(i))\n",
        "  # Starting the enviroment for the episode\n",
        "  observation = env.reset()\n",
        "  while True:\n",
        "      # Setting the model to do the actions\n",
        "      q_values = model(np.expand_dims(observation, 0))\n",
        "      action = epsilon_greedy_policy(q_values.numpy(), 0.01)\n",
        "      # Getting the observation after the model's actions for the frame\n",
        "      observation, reward, done, info = env.step(action)\n",
        "      current_reward+=reward\n",
        "      if done: \n",
        "        # Printing the reward for the current episode\n",
        "        print(\"Reward: \"+ str(current_reward) + '\\n')\n",
        "        rewards_list.append(current_reward)\n",
        "        # Summing the current episode reward to the one of all episodes\n",
        "        total_reward += current_reward\n",
        "        break\n",
        "  # Reseting the current award variable after the episode finishes\n",
        "  current_reward = 0\n",
        "\n",
        "# Printing the average reward\n",
        "print(\"Avg. Reward: \" + str(total_reward/100))\n",
        "# Printing if the agent is good enough\n",
        "print(\"Is my agent good enough?\", end=' ')\n",
        "if (total_reward/100 == 500):\n",
        "  print('Perfect')\n",
        "elif (total_reward/100 == 500):\n",
        "  print(\"True\")"
      ],
      "metadata": {
        "colab": {
          "base_uri": "https://localhost:8080/"
        },
        "id": "bo5Y35_vlo1I",
        "outputId": "ff200bf2-b673-4738-e50a-792b1ec7a2e7"
      },
      "id": "bo5Y35_vlo1I",
      "execution_count": 157,
      "outputs": [
        {
          "output_type": "stream",
          "name": "stdout",
          "text": [
            "Episode: 0\n",
            "Reward: 500.0\n",
            "\n",
            "Episode: 1\n",
            "Reward: 500.0\n",
            "\n",
            "Episode: 2\n",
            "Reward: 500.0\n",
            "\n",
            "Episode: 3\n",
            "Reward: 500.0\n",
            "\n",
            "Episode: 4\n",
            "Reward: 500.0\n",
            "\n",
            "Episode: 5\n",
            "Reward: 500.0\n",
            "\n",
            "Episode: 6\n",
            "Reward: 500.0\n",
            "\n",
            "Episode: 7\n",
            "Reward: 500.0\n",
            "\n",
            "Episode: 8\n",
            "Reward: 500.0\n",
            "\n",
            "Episode: 9\n",
            "Reward: 500.0\n",
            "\n",
            "Episode: 10\n",
            "Reward: 500.0\n",
            "\n",
            "Episode: 11\n",
            "Reward: 500.0\n",
            "\n",
            "Episode: 12\n",
            "Reward: 500.0\n",
            "\n",
            "Episode: 13\n",
            "Reward: 500.0\n",
            "\n",
            "Episode: 14\n",
            "Reward: 500.0\n",
            "\n",
            "Episode: 15\n",
            "Reward: 500.0\n",
            "\n",
            "Episode: 16\n",
            "Reward: 500.0\n",
            "\n",
            "Episode: 17\n",
            "Reward: 500.0\n",
            "\n",
            "Episode: 18\n",
            "Reward: 500.0\n",
            "\n",
            "Episode: 19\n",
            "Reward: 500.0\n",
            "\n",
            "Episode: 20\n",
            "Reward: 500.0\n",
            "\n",
            "Episode: 21\n",
            "Reward: 500.0\n",
            "\n",
            "Episode: 22\n",
            "Reward: 500.0\n",
            "\n",
            "Episode: 23\n",
            "Reward: 500.0\n",
            "\n",
            "Episode: 24\n",
            "Reward: 500.0\n",
            "\n",
            "Episode: 25\n",
            "Reward: 500.0\n",
            "\n",
            "Episode: 26\n",
            "Reward: 500.0\n",
            "\n",
            "Episode: 27\n",
            "Reward: 500.0\n",
            "\n",
            "Episode: 28\n",
            "Reward: 500.0\n",
            "\n",
            "Episode: 29\n",
            "Reward: 500.0\n",
            "\n",
            "Episode: 30\n",
            "Reward: 500.0\n",
            "\n",
            "Episode: 31\n",
            "Reward: 500.0\n",
            "\n",
            "Episode: 32\n",
            "Reward: 500.0\n",
            "\n",
            "Episode: 33\n",
            "Reward: 500.0\n",
            "\n",
            "Episode: 34\n",
            "Reward: 500.0\n",
            "\n",
            "Episode: 35\n",
            "Reward: 500.0\n",
            "\n",
            "Episode: 36\n",
            "Reward: 500.0\n",
            "\n",
            "Episode: 37\n",
            "Reward: 500.0\n",
            "\n",
            "Episode: 38\n",
            "Reward: 500.0\n",
            "\n",
            "Episode: 39\n",
            "Reward: 500.0\n",
            "\n",
            "Episode: 40\n",
            "Reward: 500.0\n",
            "\n",
            "Episode: 41\n",
            "Reward: 500.0\n",
            "\n",
            "Episode: 42\n",
            "Reward: 500.0\n",
            "\n",
            "Episode: 43\n",
            "Reward: 500.0\n",
            "\n",
            "Episode: 44\n",
            "Reward: 500.0\n",
            "\n",
            "Episode: 45\n",
            "Reward: 500.0\n",
            "\n",
            "Episode: 46\n",
            "Reward: 500.0\n",
            "\n",
            "Episode: 47\n",
            "Reward: 500.0\n",
            "\n",
            "Episode: 48\n",
            "Reward: 500.0\n",
            "\n",
            "Episode: 49\n",
            "Reward: 500.0\n",
            "\n",
            "Episode: 50\n",
            "Reward: 500.0\n",
            "\n",
            "Episode: 51\n",
            "Reward: 500.0\n",
            "\n",
            "Episode: 52\n",
            "Reward: 500.0\n",
            "\n",
            "Episode: 53\n",
            "Reward: 500.0\n",
            "\n",
            "Episode: 54\n",
            "Reward: 500.0\n",
            "\n",
            "Episode: 55\n",
            "Reward: 500.0\n",
            "\n",
            "Episode: 56\n",
            "Reward: 500.0\n",
            "\n",
            "Episode: 57\n",
            "Reward: 500.0\n",
            "\n",
            "Episode: 58\n",
            "Reward: 500.0\n",
            "\n",
            "Episode: 59\n",
            "Reward: 500.0\n",
            "\n",
            "Episode: 60\n",
            "Reward: 500.0\n",
            "\n",
            "Episode: 61\n",
            "Reward: 500.0\n",
            "\n",
            "Episode: 62\n",
            "Reward: 500.0\n",
            "\n",
            "Episode: 63\n",
            "Reward: 500.0\n",
            "\n",
            "Episode: 64\n",
            "Reward: 500.0\n",
            "\n",
            "Episode: 65\n",
            "Reward: 500.0\n",
            "\n",
            "Episode: 66\n",
            "Reward: 500.0\n",
            "\n",
            "Episode: 67\n",
            "Reward: 500.0\n",
            "\n",
            "Episode: 68\n",
            "Reward: 500.0\n",
            "\n",
            "Episode: 69\n",
            "Reward: 500.0\n",
            "\n",
            "Episode: 70\n",
            "Reward: 500.0\n",
            "\n",
            "Episode: 71\n",
            "Reward: 500.0\n",
            "\n",
            "Episode: 72\n",
            "Reward: 500.0\n",
            "\n",
            "Episode: 73\n",
            "Reward: 500.0\n",
            "\n",
            "Episode: 74\n",
            "Reward: 500.0\n",
            "\n",
            "Episode: 75\n",
            "Reward: 500.0\n",
            "\n",
            "Episode: 76\n",
            "Reward: 500.0\n",
            "\n",
            "Episode: 77\n",
            "Reward: 500.0\n",
            "\n",
            "Episode: 78\n",
            "Reward: 500.0\n",
            "\n",
            "Episode: 79\n",
            "Reward: 500.0\n",
            "\n",
            "Episode: 80\n",
            "Reward: 500.0\n",
            "\n",
            "Episode: 81\n",
            "Reward: 500.0\n",
            "\n",
            "Episode: 82\n",
            "Reward: 500.0\n",
            "\n",
            "Episode: 83\n",
            "Reward: 500.0\n",
            "\n",
            "Episode: 84\n",
            "Reward: 500.0\n",
            "\n",
            "Episode: 85\n",
            "Reward: 500.0\n",
            "\n",
            "Episode: 86\n",
            "Reward: 500.0\n",
            "\n",
            "Episode: 87\n",
            "Reward: 500.0\n",
            "\n",
            "Episode: 88\n",
            "Reward: 500.0\n",
            "\n",
            "Episode: 89\n",
            "Reward: 500.0\n",
            "\n",
            "Episode: 90\n",
            "Reward: 500.0\n",
            "\n",
            "Episode: 91\n",
            "Reward: 500.0\n",
            "\n",
            "Episode: 92\n",
            "Reward: 500.0\n",
            "\n",
            "Episode: 93\n",
            "Reward: 500.0\n",
            "\n",
            "Episode: 94\n",
            "Reward: 500.0\n",
            "\n",
            "Episode: 95\n",
            "Reward: 500.0\n",
            "\n",
            "Episode: 96\n",
            "Reward: 500.0\n",
            "\n",
            "Episode: 97\n",
            "Reward: 500.0\n",
            "\n",
            "Episode: 98\n",
            "Reward: 500.0\n",
            "\n",
            "Episode: 99\n",
            "Reward: 500.0\n",
            "\n",
            "Avg. Reward: 500.0\n",
            "Is my agent good enough? Perfect\n"
          ]
        }
      ]
    },
    {
      "cell_type": "markdown",
      "source": [
        "### If the Model is Good"
      ],
      "metadata": {
        "id": "1RR7DQ9CUWeX"
      },
      "id": "1RR7DQ9CUWeX"
    },
    {
      "cell_type": "code",
      "source": [
        "# Printing the average reward\n",
        "print(\"Avg. Reward: \" + str(total_reward/100))\n",
        "# Printing if the agent is good enough\n",
        "print(\"Is my agent good enough?\", end=' ')\n",
        "if (total_reward/100 == 500):\n",
        "  print('Perfect')\n",
        "elif (total_reward/100 == 500):\n",
        "  print(\"True\")"
      ],
      "metadata": {
        "colab": {
          "base_uri": "https://localhost:8080/"
        },
        "id": "TMTEkDkyUc7V",
        "outputId": "403eadae-04d7-4d01-d932-a00d256781c6"
      },
      "id": "TMTEkDkyUc7V",
      "execution_count": 158,
      "outputs": [
        {
          "output_type": "stream",
          "name": "stdout",
          "text": [
            "Avg. Reward: 500.0\n",
            "Is my agent good enough? Perfect\n"
          ]
        }
      ]
    },
    {
      "cell_type": "markdown",
      "source": [
        "### Showing the Results from the 100 Episodes"
      ],
      "metadata": {
        "id": "Be3gycqWSxbd"
      },
      "id": "Be3gycqWSxbd"
    },
    {
      "cell_type": "code",
      "source": [
        "plt.plot(rewards_list)\n",
        "plt.title(\"Rewards for Each Episode\")\n",
        "plt.ylabel(\"Reward\")\n",
        "plt.xlabel(\"Episode\")\n",
        "plt.show()"
      ],
      "metadata": {
        "colab": {
          "base_uri": "https://localhost:8080/",
          "height": 295
        },
        "id": "tMueSVF5SC-m",
        "outputId": "99c26a0c-5bd9-4918-e17b-17dfdbdbfff2"
      },
      "id": "tMueSVF5SC-m",
      "execution_count": 159,
      "outputs": [
        {
          "output_type": "display_data",
          "data": {
            "text/plain": [
              "<Figure size 432x288 with 1 Axes>"
            ],
            "image/png": "[encoded data removed]"
          },
          "metadata": {
            "needs_background": "light"
          }
        }
      ]
    },
    {
      "cell_type": "markdown",
      "source": [
        "## Task 3"
      ],
      "metadata": {
        "id": "vw8O7CLsoHC2"
      },
      "id": "vw8O7CLsoHC2"
    },
    {
      "cell_type": "markdown",
      "source": [
        "Render one episode played by the developed RL agent to visually inspect how well the agent is performing in the cart pole environment."
      ],
      "metadata": {
        "id": "TwDwgxTaV4wH"
      },
      "id": "TwDwgxTaV4wH"
    },
    {
      "cell_type": "code",
      "source": [
        "# Importing the library to record the video\n",
        "from gym.wrappers.monitoring.video_recorder import VideoRecorder\n",
        "\n",
        "# Getting the model\n",
        "model = tf.saved_model.load(\"models/dqn500\")\n",
        "# Setting the name of the video\n",
        "video_name = \"after_dqn.mp4\"\n",
        "# Creating an enviroment\n",
        "env = gym.make(\"CartPole-v1\")\n",
        "# Starting the recording\n",
        "video = VideoRecorder(env, video_name)\n",
        "# Restarting the enviroment and setting the variables\n",
        "observation = env.reset()\n",
        "episode_reward = 0\n",
        "episode_counter = 0\n",
        "while True:\n",
        "  # Printing the current episode\n",
        "  print(\"Episode: \"+str(episode_counter))\n",
        "  observation = env.reset()\n",
        "  while True:\n",
        "      # Implementing the model\n",
        "      q_values = model(np.expand_dims(observation, 0))\n",
        "      action = epsilon_greedy_policy(q_values.numpy(), 0.01)\n",
        "      # Capture a frame of the running enviroment\n",
        "      video.capture_frame()\n",
        "      # Getting the observation after the action of the model\n",
        "      observation, reward, done, info = env.step(action)\n",
        "      # Summing the current reward to the total one for the episode\n",
        "      episode_reward+=reward\n",
        "      # If the episode ended\n",
        "      if done: \n",
        "        # Printing the reward for the episode\n",
        "        print(\"Reward: \"+ str(episode_reward))\n",
        "        break\n",
        "  # Increment the episode counter\n",
        "  episode_counter += 1\n",
        "  if(episode_reward == 500):\n",
        "    # Ending the enviroment and the video\n",
        "    env.close()\n",
        "    video.close()\n",
        "    # Showing the video\n",
        "    show_video(video_name)\n",
        "    break\n",
        "  else:\n",
        "    # Restarting the reward for the current episode\n",
        "    episode_reward = 0"
      ],
      "metadata": {
        "colab": {
          "base_uri": "https://localhost:8080/",
          "height": 602
        },
        "id": "b0i4SVPXoKEc",
        "outputId": "ce7068ff-4fad-47ad-86be-c2cfe460e5d6"
      },
      "id": "b0i4SVPXoKEc",
      "execution_count": 160,
      "outputs": [
        {
          "output_type": "stream",
          "name": "stderr",
          "text": [
            "/usr/local/lib/python3.9/dist-packages/gym/wrappers/monitoring/video_recorder.py:78: DeprecationWarning: \u001b[33mWARN: Recording ability for environment CartPole-v1 initialized with `render_mode=None` is marked as deprecated and will be removed in the future.\u001b[0m\n",
            "  logger.deprecation(\n",
            "/usr/local/lib/python3.9/dist-packages/gym/wrappers/monitoring/video_recorder.py:101: DeprecationWarning: \u001b[33mWARN: <class 'gym.wrappers.monitoring.video_recorder.VideoRecorder'> is marked as deprecated and will be removed in the future.\u001b[0m\n",
            "  logger.deprecation(\n"
          ]
        },
        {
          "output_type": "stream",
          "name": "stdout",
          "text": [
            "Episode: 0\n"
          ]
        },
        {
          "output_type": "stream",
          "name": "stderr",
          "text": [
            "/usr/local/lib/python3.9/dist-packages/gym/core.py:43: DeprecationWarning: \u001b[33mWARN: The argument mode in render method is deprecated; use render_mode during environment initialization instead.\n",
            "See here for more information: https://www.gymlibrary.ml/content/api/\u001b[0m\n",
            "  deprecation(\n"
          ]
        },
        {
          "output_type": "stream",
          "name": "stdout",
          "text": [
            "Reward: 500.0\n"
          ]
        },
        {
          "output_type": "display_data",
          "data": {
            "text/plain": [
              "<IPython.core.display.HTML object>"
            ],
            "text/html": [
              "<video alt=\"test\" autoplay \n",
              "                loop controls style=\"height: 400px;\">\n",
              "                <source src=\"data:video/mp4;base64,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\" type=\"video/mp4\" />\n",
              "             </video>"
            ]
          },
          "metadata": {}
        }
      ]
    },
    {
      "cell_type": "markdown",
      "source": [
        "## References:"
      ],
      "metadata": {
        "id": "_G8a7u-8P48t"
      },
      "id": "_G8a7u-8P48t"
    },
    {
      "cell_type": "markdown",
      "source": [
        "\n",
        "\n",
        "*   Python Lessons. (2019, November 26). Introduction to Reinforcement Learning - Cartpole DQN [Video]. YouTube. https://www.youtube.com/watch?v=D795oNqa-Vk\n",
        "*   Kumar, S. (2020). Balancing a CartPole System with Reinforcement Learning -- A Tutorial. ArXiv (Cornell University). https://arxiv.org/pdf/2006.04938.pdf\n",
        "*   Y. (n.d.). GitHub - yue-zhongqi/cartpole_colab. GitHub. https://github.com/yue-zhongqi/cartpole_colab\n",
        "*   Train a Deep Q Network with TF-Agents. (n.d.). TensorFlow. https://www.tensorflow.org/agents/tutorials/1_dqn_tutorial\n",
        "\n",
        "\n"
      ],
      "metadata": {
        "id": "Wgp4aZ2PP8lZ"
      },
      "id": "Wgp4aZ2PP8lZ"
    }
  ],
  "metadata": {
    "kernelspec": {
      "display_name": "Python 3 (ipykernel)",
      "language": "python",
      "name": "python3"
    },
    "language_info": {
      "codemirror_mode": {
        "name": "ipython",
        "version": 3
      },
      "file_extension": ".py",
      "mimetype": "text/x-python",
      "name": "python",
      "nbconvert_exporter": "python",
      "pygments_lexer": "ipython3",
      "version": "3.9.7"
    },
    "colab": {
      "provenance": [],
      "toc_visible": true
    }
  },
  "nbformat": 4,
  "nbformat_minor": 5
}